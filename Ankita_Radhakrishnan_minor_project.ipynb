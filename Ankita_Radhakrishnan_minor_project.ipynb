{
  "nbformat": 4,
  "nbformat_minor": 0,
  "metadata": {
    "colab": {
      "name": "Ankita_Radhakrishnan_minor_project",
      "provenance": [],
      "collapsed_sections": [],
      "authorship_tag": "ABX9TyMU60AbnRePmSyB/rk4T4he",
      "include_colab_link": true
    },
    "kernelspec": {
      "display_name": "Python 3",
      "name": "python3"
    }
  },
  "cells": [
    {
      "cell_type": "markdown",
      "metadata": {
        "id": "view-in-github",
        "colab_type": "text"
      },
      "source": [
        "<a href=\"https://colab.research.google.com/github/kit1412/basicprojects/blob/main/Ankita_Radhakrishnan_minor_project.ipynb\" target=\"_parent\"><img src=\"https://colab.research.google.com/assets/colab-badge.svg\" alt=\"Open In Colab\"/></a>"
      ]
    },
    {
      "cell_type": "code",
      "metadata": {
        "colab": {
          "base_uri": "https://localhost:8080/"
        },
        "id": "5QeEWmF-75ew",
        "outputId": "5e89ea95-1385-4fd8-f34c-4f86bab43a40"
      },
      "source": [
        "!pip install bing-image-downloader"
      ],
      "execution_count": 2,
      "outputs": [
        {
          "output_type": "stream",
          "text": [
            "Collecting bing-image-downloader\n",
            "  Downloading https://files.pythonhosted.org/packages/0d/bf/537a61030b84ae4cd5022d5c7b014fd9bc3ce7c02358919153a6658a61d3/bing_image_downloader-1.0.4-py3-none-any.whl\n",
            "Installing collected packages: bing-image-downloader\n",
            "Successfully installed bing-image-downloader-1.0.4\n"
          ],
          "name": "stdout"
        }
      ]
    },
    {
      "cell_type": "code",
      "metadata": {
        "colab": {
          "base_uri": "https://localhost:8080/"
        },
        "id": "7Hj0bHEWrgdo",
        "outputId": "8d182029-b2e6-4f1c-faa1-7b1e1b5acdff"
      },
      "source": [
        "from bing_image_downloader import downloader\n",
        "\n",
        "downloader.download(\"zayn malik\", limit=40, output_dir='dataset', adult_filter_off=True, force_replace=False, timeout=60)\n"
      ],
      "execution_count": 3,
      "outputs": [
        {
          "output_type": "stream",
          "text": [
            "\n",
            "\n",
            "[!!]Indexing page: 1\n",
            "\n",
            "[%] Indexed 40 Images on Page 1.\n",
            "\n",
            "===============================================\n",
            "\n",
            "[%] Downloading Image #1 from https://guardian.ng/wp-content/uploads/2020/01/Zayn-Malik-Grammy-1.jpg\n",
            "[%] File Downloaded !\n",
            "\n",
            "[%] Downloading Image #2 from https://www.menshair.style/wp-content/uploads/2019/09/zayn-malik-hairstyles-14.jpg\n",
            "[!] Issue getting: https://www.menshair.style/wp-content/uploads/2019/09/zayn-malik-hairstyles-14.jpg\n",
            "[!] Error:: <urlopen error [SSL: CERTIFICATE_VERIFY_FAILED] certificate verify failed: certificate has expired (_ssl.c:1091)>\n",
            "[%] Downloading Image #2 from https://imagesvc.meredithcorp.io/v3/mm/image?url=https%3A%2F%2Fstatic.onecms.io%2Fwp-content%2Fuploads%2Fsites%2F20%2F2019%2F08%2Fzayn-malik.jpg\n",
            "[%] File Downloaded !\n",
            "\n",
            "[%] Downloading Image #3 from https://barbaraiweins.com/wp-content/uploads/2020/04/Zayn-Malik’s-Net-Worth.jpg\n",
            "[!] Issue getting: https://barbaraiweins.com/wp-content/uploads/2020/04/Zayn-Malik’s-Net-Worth.jpg\n",
            "[!] Error:: 'ascii' codec can't encode character '\\u2019' in position 42: ordinal not in range(128)\n",
            "[%] Downloading Image #3 from https://i.dailymail.co.uk/1s/2019/03/23/18/11366208-6842603-Zayn_Malik_has_posted_a_tweet_apologizing_for_being_a_s_t_person-m-26_1553364003327.jpg\n",
            "[%] File Downloaded !\n",
            "\n",
            "[%] Downloading Image #4 from https://upload.wikimedia.org/wikipedia/commons/1/10/Zayn_Wiki_(cropped).jpg\n",
            "[%] File Downloaded !\n",
            "\n",
            "[%] Downloading Image #5 from https://cdn.entertainmentdaily.com/2018/10/16120419/zayn-malik1.jpg\n",
            "[%] File Downloaded !\n",
            "\n",
            "[%] Downloading Image #6 from https://menshaircuts.com/wp-content/uploads/2019/03/zayn-malik-hair-short-spikes-500x750.jpg\n",
            "[%] File Downloaded !\n",
            "\n",
            "[%] Downloading Image #7 from https://i.pinimg.com/736x/e7/94/cb/e794cbda15c99717c581531025ed611f.jpg\n",
            "[%] File Downloaded !\n",
            "\n",
            "[%] Downloading Image #8 from https://swashvillage.org/storage/img/images_2/zayn-malik-biography_2.jpg\n",
            "[%] File Downloaded !\n",
            "\n",
            "[%] Downloading Image #9 from http://cdn-img.instyle.com/sites/default/files/styles/684xflex/public/images/2018/03/032118-zayn-malik-lead.jpg?itok=Q109b43C\n",
            "[%] File Downloaded !\n",
            "\n",
            "[%] Downloading Image #10 from https://menshairstylesfix.com/wp-content/uploads/2017/12/Zayn-Malik-Haircut-3.jpg\n",
            "[%] File Downloaded !\n",
            "\n",
            "[%] Downloading Image #11 from https://www.nme.com/wp-content/uploads/2018/11/zayn-malik-pixlr.jpg\n",
            "[%] File Downloaded !\n",
            "\n",
            "[%] Downloading Image #12 from http://i.brecorder.com/wp-content/uploads/2018/02/zayn-malik.jpg\n",
            "[%] File Downloaded !\n",
            "\n",
            "[%] Downloading Image #13 from https://cdn.pinkvilla.com/files/styles/gallery-section/public/zayn_malik_controversial_moments_1.jpg?itok=hASuqx3M\n",
            "[%] File Downloaded !\n",
            "\n",
            "[%] Downloading Image #14 from https://www.jetss.com/wp-content/uploads/2019/03/zayn-malik-twitter-rant-apology-e1553553475821.jpg\n",
            "[%] File Downloaded !\n",
            "\n",
            "[%] Downloading Image #15 from http://dose.ca/wp-content/uploads/2013/06/zayn_malik_by_pascal_le_segretain.jpg\n",
            "[%] File Downloaded !\n",
            "\n",
            "[%] Downloading Image #16 from http://hottesthaircuts.com/wp-content/uploads/2018/03/18.-Hairstyle-with-Beard.jpg\n",
            "[%] File Downloaded !\n",
            "\n",
            "[%] Downloading Image #17 from https://www.loomee-tv.de/wp-content/uploads/2017/06/Zayn-Malik-PRR-070721-big-scaled.jpg\n",
            "[%] File Downloaded !\n",
            "\n",
            "[%] Downloading Image #18 from https://www.burnleyexpress.net/sttms.blob.core.windows.net/images/QVNIMTEzMjEzMzU3.jpg?width=640\n",
            "[%] File Downloaded !\n",
            "\n",
            "[%] Downloading Image #19 from https://www.dailypioneer.com/uploads/2018/story/images/big/zayn-malik-says-he-has-stopped-identifying-as-a-muslim-2018-11-16.jpg\n",
            "[%] File Downloaded !\n",
            "\n",
            "[%] Downloading Image #20 from https://api.time.com/wp-content/uploads/2015/05/zayn-malik.jpeg\n",
            "[%] File Downloaded !\n",
            "\n",
            "[%] Downloading Image #21 from https://www.bravo.de/assets/field/image/zayn.jpg\n",
            "[%] File Downloaded !\n",
            "\n",
            "[%] Downloading Image #22 from https://filmfare.wwmindia.com/content/2018/feb/zayn-malik-vogue_1518094937.jpg\n",
            "[%] File Downloaded !\n",
            "\n",
            "[%] Downloading Image #23 from https://cdn.thelivemirror.com/wp-content/uploads/2019/05/Zayn-Malik.jpg\n",
            "[%] File Downloaded !\n",
            "\n",
            "[%] Downloading Image #24 from https://cdn.planetradio.co.uk/one/media/5ce5/22de/0c07/af45/e558/c0e5/ZAYN-MALIK.jpg?quality=80&amp;format=jpg&amp;crop=193,0,1574,2456&amp;resize=crop\n",
            "[Error]Invalid image, not saving https://cdn.planetradio.co.uk/one/media/5ce5/22de/0c07/af45/e558/c0e5/ZAYN-MALIK.jpg?quality=80&amp;format=jpg&amp;crop=193,0,1574,2456&amp;resize=crop\n",
            "\n",
            "[!] Issue getting: https://cdn.planetradio.co.uk/one/media/5ce5/22de/0c07/af45/e558/c0e5/ZAYN-MALIK.jpg?quality=80&amp;format=jpg&amp;crop=193,0,1574,2456&amp;resize=crop\n",
            "[!] Error:: No active exception to reraise\n",
            "[%] Downloading Image #24 from https://galerie-boulet.com/pics/zayn-malik-likes-bollywood-news-4.jpg\n",
            "[%] File Downloaded !\n",
            "\n",
            "[%] Downloading Image #25 from https://healthyhappynews.com/wp-content/uploads/2020/01/zayn-malik-donates-to-young-girl-with-cancer.jpg\n",
            "[%] File Downloaded !\n",
            "\n",
            "[%] Downloading Image #26 from https://static.ynaija.com/wp-content/uploads/2018/11/16063217/Zayn-Malik.jpg\n",
            "[%] File Downloaded !\n",
            "\n",
            "[%] Downloading Image #27 from https://www.nydailynews.com/resizer/G2KU5rQFvB9J8vPUddYXFGBzxnY=/1200x1719/top/arc-anglerfish-arc2-prod-tronc.s3.amazonaws.com/public/2BQRNAZ4X3SYFBVEOTVLIF4CVA.jpg\n",
            "[%] File Downloaded !\n",
            "\n",
            "[%] Downloading Image #28 from https://goat.com.au/wp-content/uploads/2018/11/GettyImages-911874338-e1541567474684.jpg\n",
            "[%] File Downloaded !\n",
            "\n",
            "[%] Downloading Image #29 from http://celebrityinsider.org/wp-content/uploads/2019/03/zayn-malik.jpg\n",
            "[%] File Downloaded !\n",
            "\n",
            "[%] Downloading Image #30 from https://www.thefashionisto.com/wp-content/uploads/2018/02/Zayn-Malik-2018-Elle-India-Photo-Shoot-005.jpg\n",
            "[%] File Downloaded !\n",
            "\n",
            "[%] Downloading Image #31 from http://barbaraiweins.com/wp-content/uploads/2020/04/Zayn-Malik.jpg\n",
            "[%] File Downloaded !\n",
            "\n",
            "[%] Downloading Image #32 from https://filmfare.wwmindia.com/content/2018/feb/zayn-malik-gq-style-0816-07_1518095221.jpg\n",
            "[%] File Downloaded !\n",
            "\n",
            "[%] Downloading Image #33 from https://starktimes.com/wp-content/uploads/2020/01/Zayn-Malik-age.jpg\n",
            "[%] File Downloaded !\n",
            "\n",
            "[%] Downloading Image #34 from https://assets.teenvogue.com/photos/55828fdf941a95530d042fb8/master/w_1600/beauty-celebrity-beauty-2015-03-zayn-malik-hair-transformation-01.jpg\n",
            "[%] File Downloaded !\n",
            "\n",
            "[%] Downloading Image #35 from https://allstarbio.com/wp-content/uploads/2017/01/zayn-malik-pics-1024x859.jpg\n",
            "[%] File Downloaded !\n",
            "\n",
            "[%] Downloading Image #36 from https://seriable.com/wp-content/uploads/2019/07/zayn-malik-weight.jpg\n",
            "[%] File Downloaded !\n",
            "\n",
            "[%] Downloading Image #37 from http://home.bt.com/images/zayn-malik-reveals-he-no-longer-considers-himself-a-muslim-136431081278102601-181115180018.jpg\n",
            "[%] File Downloaded !\n",
            "\n",
            "\n",
            "\n",
            "[!!]Indexing page: 2\n",
            "\n",
            "[%] Indexed 35 Images on Page 2.\n",
            "\n",
            "===============================================\n",
            "\n",
            "[%] Downloading Image #38 from https://guardian.ng/wp-content/uploads/2020/01/Zayn-Malik-Grammy-1.jpg\n",
            "[%] File Downloaded !\n",
            "\n",
            "[%] Downloading Image #39 from https://www.menshair.style/wp-content/uploads/2019/09/zayn-malik-hairstyles-14.jpg\n",
            "[!] Issue getting: https://www.menshair.style/wp-content/uploads/2019/09/zayn-malik-hairstyles-14.jpg\n",
            "[!] Error:: <urlopen error [SSL: CERTIFICATE_VERIFY_FAILED] certificate verify failed: certificate has expired (_ssl.c:1091)>\n",
            "[%] Downloading Image #39 from https://imagesvc.meredithcorp.io/v3/mm/image?url=https%3A%2F%2Fstatic.onecms.io%2Fwp-content%2Fuploads%2Fsites%2F20%2F2019%2F08%2Fzayn-malik.jpg\n",
            "[%] File Downloaded !\n",
            "\n",
            "[%] Downloading Image #40 from https://barbaraiweins.com/wp-content/uploads/2020/04/Zayn-Malik’s-Net-Worth.jpg\n",
            "[!] Issue getting: https://barbaraiweins.com/wp-content/uploads/2020/04/Zayn-Malik’s-Net-Worth.jpg\n",
            "[!] Error:: 'ascii' codec can't encode character '\\u2019' in position 42: ordinal not in range(128)\n",
            "[%] Downloading Image #40 from https://i.dailymail.co.uk/1s/2019/03/23/18/11366208-6842603-Zayn_Malik_has_posted_a_tweet_apologizing_for_being_a_s_t_person-m-26_1553364003327.jpg\n",
            "[%] File Downloaded !\n",
            "\n",
            "\n",
            "\n",
            "[%] Done. Downloaded 40 images.\n",
            "\n",
            "===============================================\n",
            "\n"
          ],
          "name": "stdout"
        }
      ]
    },
    {
      "cell_type": "code",
      "metadata": {
        "colab": {
          "base_uri": "https://localhost:8080/"
        },
        "id": "gkmcOPNL9YQ7",
        "outputId": "cacf261b-01d9-4d7e-a1ca-d7b91ab118d3"
      },
      "source": [
        "downloader.download(\"polar bears\", limit=40, output_dir='dataset', adult_filter_off=True, force_replace=False, timeout=60)"
      ],
      "execution_count": 4,
      "outputs": [
        {
          "output_type": "stream",
          "text": [
            "\n",
            "\n",
            "[!!]Indexing page: 1\n",
            "\n",
            "[%] Indexed 40 Images on Page 1.\n",
            "\n",
            "===============================================\n",
            "\n",
            "[%] Downloading Image #1 from https://upload.wikimedia.org/wikipedia/commons/6/66/Polar_Bear_-_Alaska_(cropped).jpg\n",
            "[%] File Downloaded !\n",
            "\n",
            "[%] Downloading Image #2 from http://cbsnews1.cbsistatic.com/hub/i/2015/02/27/613901ea-b961-4f7f-b9fd-cd563f2b8413/polar-bears24istock.jpg\n",
            "[%] File Downloaded !\n",
            "\n",
            "[%] Downloading Image #3 from https://www.sciencemag.org/sites/default/files/styles/article_main_large/public/polar bear.jpg?itok=4Q6FMaNA\n",
            "[!] Issue getting: https://www.sciencemag.org/sites/default/files/styles/article_main_large/public/polar bear.jpg?itok=4Q6FMaNA\n",
            "[!] Error:: URL can't contain control characters. '/sites/default/files/styles/article_main_large/public/polar bear.jpg?itok=4Q6FMaNA' (found at least ' ')\n",
            "[%] Downloading Image #3 from http://www.thestar.com/content/dam/thestar/news/world/2015/07/02/polar-bears-threatened-by-retreat-of-sea-ice-says-usgs/polar-bears.jpg\n",
            "[%] File Downloaded !\n",
            "\n",
            "[%] Downloading Image #4 from https://s.abcnews.com/images/International/svalbard-archipelago-polar-bears-gty-mem-180731_hpMain_16x9_992.jpg\n",
            "[%] File Downloaded !\n",
            "\n",
            "[%] Downloading Image #5 from https://www.nationalgeographic.com/content/dam/environment/2018/07/polar-bear-summit-station/01-polar-bear-nationalgeographic_1155565.ngsversion.1532107353964.adapt.1900.1.jpg\n",
            "[%] File Downloaded !\n",
            "\n",
            "[%] Downloading Image #6 from https://static.independent.co.uk/s3fs-public/thumbnails/image/2016/12/13/09/polar-bears.jpg\n",
            "[%] File Downloaded !\n",
            "\n",
            "[%] Downloading Image #7 from http://i.telegraph.co.uk/multimedia/archive/01933/bears_1933632a.jpg\n",
            "[Error]Invalid image, not saving http://i.telegraph.co.uk/multimedia/archive/01933/bears_1933632a.jpg\n",
            "\n",
            "[!] Issue getting: http://i.telegraph.co.uk/multimedia/archive/01933/bears_1933632a.jpg\n",
            "[!] Error:: No active exception to reraise\n",
            "[%] Downloading Image #7 from http://cdn.factcheck.org/UploadedFiles/2016/03/Polar_bear_female_with_young.jpg\n",
            "[%] File Downloaded !\n",
            "\n",
            "[%] Downloading Image #8 from http://media2.s-nbcnews.com/i/streams/2014/February/140206/2D11532116-today-polar-bear-tease.jpg\n",
            "[%] File Downloaded !\n",
            "\n",
            "[%] Downloading Image #9 from http://1.bp.blogspot.com/-hW-0fvdvlRU/TzHmqqOfuDI/AAAAAAAACYc/HgawVuWQg-0/s1600/Polar%2BBears.jpg\n",
            "[%] File Downloaded !\n",
            "\n",
            "[%] Downloading Image #10 from http://cbsnews1.cbsistatic.com/hub/i/2017/06/08/7d0094d2-6624-4cc3-b584-832939d41943/istock-637677382.jpg\n",
            "[%] File Downloaded !\n",
            "\n",
            "[%] Downloading Image #11 from http://cbsnews3.cbsistatic.com/hub/i/r/2015/02/27/41b829ad-1159-4e25-8482-cd1130653a91/thumbnail/1200x630/e25d45beaaaaeca96e76b5c261ca1eba/polar-bears21istock.jpg\n",
            "[%] File Downloaded !\n",
            "\n",
            "[%] Downloading Image #12 from https://www.gannett-cdn.com/-mm-/3c056bf5db74aa2a91759c763846e8fd882e383f/c=0-188-2231-1448/local/-/media/2018/07/05/USATODAY/USATODAY/636663885399916990-A01-POLAR-BEAR-15-20439407.JPG?width=3200&amp;height=1680&amp;fit=crop\n",
            "[%] File Downloaded !\n",
            "\n",
            "[%] Downloading Image #13 from http://1.bp.blogspot.com/-CfcZVZNmOY4/UbmEsqw1ZLI/AAAAAAAAHTg/-svL3Ij0g4w/s1600/Wild-Polar-Bear.jpg\n",
            "[%] File Downloaded !\n",
            "\n",
            "[%] Downloading Image #14 from http://news.berkeley.edu/wp-content/uploads/2014/05/polarbear.jpg\n",
            "[%] File Downloaded !\n",
            "\n",
            "[%] Downloading Image #15 from https://upload.wikimedia.org/wikipedia/commons/thumb/1/19/Polarbearonice.jpg/220px-Polarbearonice.jpg\n",
            "[Error]Invalid image, not saving https://upload.wikimedia.org/wikipedia/commons/thumb/1/19/Polarbearonice.jpg/220px-Polarbearonice.jpg\n",
            "\n",
            "[!] Issue getting: https://upload.wikimedia.org/wikipedia/commons/thumb/1/19/Polarbearonice.jpg/220px-Polarbearonice.jpg\n",
            "[!] Error:: No active exception to reraise\n",
            "[%] Downloading Image #15 from https://senecaparkzoo.org/wp-content/uploads/2016/03/Anoki-from-Maryland-Zoo.jpg\n",
            "[%] File Downloaded !\n",
            "\n",
            "[%] Downloading Image #16 from https://cbsnews1.cbsistatic.com/hub/i/r/2015/02/27/a98268c0-2f62-4c72-a9ad-fabc154ba96a/resize/620x465/38a37b25a6e5aae1000b8a5ad9b92554/polar-bears26istock.jpg#\n",
            "[%] File Downloaded !\n",
            "\n",
            "[%] Downloading Image #17 from http://3.bp.blogspot.com/-kvuwtUnVmDw/T0vX-yANQGI/AAAAAAAADn8/ZuQLWGZlQY4/s1600/polar-bears-putin-1.jpg\n",
            "[%] File Downloaded !\n",
            "\n",
            "[%] Downloading Image #18 from https://static01.nyt.com/images/2019/02/12/world/12polarbear-print/12polarbear1-videoSixteenByNineJumbo1600-v3.jpg\n",
            "[%] File Downloaded !\n",
            "\n",
            "[%] Downloading Image #19 from https://www.nps.gov/subjects/bears/images/polarbear.jpg?maxwidth=650&amp;autorotate=false\n",
            "[%] File Downloaded !\n",
            "\n",
            "[%] Downloading Image #20 from https://static01.nyt.com/images/2018/12/03/climate/03ARCTIC-QNA1print/00ARCTIC-QNA1-articleLarge.jpg?quality=75&amp;auto=webp&amp;disable=upscale\n",
            "[%] File Downloaded !\n",
            "\n",
            "[%] Downloading Image #21 from http://americanbear.org/wp-content/uploads/2015/10/polar_bear.jpg\n",
            "[%] File Downloaded !\n",
            "\n",
            "[%] Downloading Image #22 from http://4.bp.blogspot.com/-KcRWVZZ9w4Q/TjlLZC9wC2I/AAAAAAAABmQ/NjuTvkwDqDk/s1600/Polar+bears+global+warming+1.jpg\n",
            "[%] File Downloaded !\n",
            "\n",
            "[%] Downloading Image #23 from http://4.bp.blogspot.com/-XvWg6mOv-L0/UbmEqT9LMOI/AAAAAAAAHTE/W6ZdwNb_7i0/s1600/Polar-Bear-Amazing-Wild-Animal.jpg\n",
            "[%] File Downloaded !\n",
            "\n",
            "[%] Downloading Image #24 from http://cbsnews1.cbsistatic.com/hub/i/2015/02/27/fcff6e16-28bd-41da-be7e-90101de7dc27/polar-bears09istock.jpg\n",
            "[%] File Downloaded !\n",
            "\n",
            "[%] Downloading Image #25 from https://i.kinja-img.com/gawker-media/image/upload/s--F9DIjiO7--/c_fill,fl_progressive,g_center,h_900,q_80,w_1600/1294062958888686764.jpg\n",
            "[%] File Downloaded !\n",
            "\n",
            "[%] Downloading Image #26 from https://i.ytimg.com/vi/zySc7A7Sayc/maxresdefault.jpg\n",
            "[%] File Downloaded !\n",
            "\n",
            "[%] Downloading Image #27 from https://s3-us-west-2.amazonaws.com/uw-s3-cdn/wp-content/uploads/sites/6/2018/11/14110818/Adult-female-and-cub-Wrangel2017.jpg\n",
            "[%] File Downloaded !\n",
            "\n",
            "[%] Downloading Image #28 from http://www.pbs.org/wnet/nature/files/2014/10/PolarBear-Main-e1415225659274-1000x469.jpg\n",
            "[%] File Downloaded !\n",
            "\n",
            "[%] Downloading Image #29 from https://www.ctvnews.ca/polopoly_fs/1.3713400.1512757208!/httpImage/image.jpg_gen/derivatives/landscape_620/image.jpg\n",
            "[%] File Downloaded !\n",
            "\n",
            "[%] Downloading Image #30 from http://allthatsinteresting.com/wordpress/wp-content/uploads/2016/09/polar-bear-jaws.jpg\n",
            "[%] File Downloaded !\n",
            "\n",
            "[%] Downloading Image #31 from https://i.ytimg.com/vi/CbILj_CYqno/maxresdefault.jpg\n",
            "[%] File Downloaded !\n",
            "\n",
            "[%] Downloading Image #32 from http://sites.psu.edu/mem5969/wp-content/uploads/sites/6190/2013/10/polar-bear-lounging-1024x768.jpg\n",
            "[%] File Downloaded !\n",
            "\n",
            "[%] Downloading Image #33 from http://2.bp.blogspot.com/-XLcvjO4UXHk/Uog6KzWvlrI/AAAAAAAALL8/izdedfarbak/s1600/Cute+polar+bear+hug.jpg\n",
            "[%] File Downloaded !\n",
            "\n",
            "[%] Downloading Image #34 from https://i.ytimg.com/vi/qbdopIzESCg/maxresdefault.jpg\n",
            "[%] File Downloaded !\n",
            "\n",
            "[%] Downloading Image #35 from http://1.bp.blogspot.com/-t8IG9zlaOys/UbmEqw4U6PI/AAAAAAAAHTI/fq6xFOY8b0g/s1600/Polar-Bear-Facts.jpg\n",
            "[%] File Downloaded !\n",
            "\n",
            "[%] Downloading Image #36 from https://3.bp.blogspot.com/-bqC7jmSh5Do/V2FMS6De8uI/AAAAAAACPyI/cxYWdEB1gv0CWX4sv_V3t2ShlStZWoHcwCLcB/s1600/5.jpg\n",
            "[%] File Downloaded !\n",
            "\n",
            "[%] Downloading Image #37 from http://images.csmonitor.com/csm/2016/03/967751_1_0301-bears_standard.png?alias=standard_900x600\n",
            "[%] File Downloaded !\n",
            "\n",
            "\n",
            "\n",
            "[!!]Indexing page: 2\n",
            "\n",
            "[%] Indexed 35 Images on Page 2.\n",
            "\n",
            "===============================================\n",
            "\n",
            "[%] Downloading Image #38 from https://upload.wikimedia.org/wikipedia/commons/6/66/Polar_Bear_-_Alaska_(cropped).jpg\n",
            "[%] File Downloaded !\n",
            "\n",
            "[%] Downloading Image #39 from http://cbsnews1.cbsistatic.com/hub/i/2015/02/27/613901ea-b961-4f7f-b9fd-cd563f2b8413/polar-bears24istock.jpg\n",
            "[%] File Downloaded !\n",
            "\n",
            "[%] Downloading Image #40 from https://www.sciencemag.org/sites/default/files/styles/article_main_large/public/polar bear.jpg?itok=4Q6FMaNA\n",
            "[!] Issue getting: https://www.sciencemag.org/sites/default/files/styles/article_main_large/public/polar bear.jpg?itok=4Q6FMaNA\n",
            "[!] Error:: URL can't contain control characters. '/sites/default/files/styles/article_main_large/public/polar bear.jpg?itok=4Q6FMaNA' (found at least ' ')\n",
            "[%] Downloading Image #40 from http://www.thestar.com/content/dam/thestar/news/world/2015/07/02/polar-bears-threatened-by-retreat-of-sea-ice-says-usgs/polar-bears.jpg\n",
            "[%] File Downloaded !\n",
            "\n",
            "\n",
            "\n",
            "[%] Done. Downloaded 40 images.\n",
            "\n",
            "===============================================\n",
            "\n"
          ],
          "name": "stdout"
        }
      ]
    },
    {
      "cell_type": "code",
      "metadata": {
        "colab": {
          "base_uri": "https://localhost:8080/"
        },
        "id": "6a7NynZusO1c",
        "outputId": "e811bc73-c9e6-4de4-8288-5b65d976b758"
      },
      "source": [
        "downloader.download(\"rose\", limit=40, output_dir='dataset', adult_filter_off=True, force_replace=False, timeout=60)"
      ],
      "execution_count": 5,
      "outputs": [
        {
          "output_type": "stream",
          "text": [
            "\n",
            "\n",
            "[!!]Indexing page: 1\n",
            "\n",
            "[%] Indexed 40 Images on Page 1.\n",
            "\n",
            "===============================================\n",
            "\n",
            "[%] Downloading Image #1 from https://upload.wikimedia.org/wikipedia/commons/thumb/2/28/Rose_Kardinal_crop.jpg/1200px-Rose_Kardinal_crop.jpg\n",
            "[%] File Downloaded !\n",
            "\n",
            "[%] Downloading Image #2 from https://enablelc.org/wp-content/uploads/2017/01/BS-Yellow-rose.jpg\n",
            "[%] File Downloaded !\n",
            "\n",
            "[%] Downloading Image #3 from https://pixnio.com/free-images/2017/11/03/2017-11-03-23-21-56.jpg\n",
            "[%] File Downloaded !\n",
            "\n",
            "[%] Downloading Image #4 from https://www.florissa.com/wp-content/uploads/2016/05/Olivia-Rose-Austin-Ausmixture-A5lg.jpg\n",
            "[%] File Downloaded !\n",
            "\n",
            "[%] Downloading Image #5 from https://garden.org/pics/2016-05-22/cliftoncat/930e46.jpg\n",
            "[%] File Downloaded !\n",
            "\n",
            "[%] Downloading Image #6 from https://www.treefrogfarm.com/store/images/source/IFE_A-K/Golden_Celebration_Rose.jpg\n",
            "[%] File Downloaded !\n",
            "\n",
            "[%] Downloading Image #7 from http://www.theperfectrose.com/FS/STORE/104/2/Pink_Promise.jpg\n",
            "[%] File Downloaded !\n",
            "\n",
            "[%] Downloading Image #8 from https://www.gardeningknowhow.com/wp-content/uploads/2015/03/osiria-rose.jpg\n",
            "[%] File Downloaded !\n",
            "\n",
            "[%] Downloading Image #9 from https://www.cowellsgc.co.uk/files/images/webshop/rose-my-lovely-mum-keep-smiling-1546548287_l.jpg\n",
            "[%] File Downloaded !\n",
            "\n",
            "[%] Downloading Image #10 from https://1.bp.blogspot.com/_sRrqxVuGxyY/S7hTdZ3BRnI/AAAAAAAAAd8/jYVkpXbNzlQ/s1600/normal-red-rose-blooming-enough-focused.JPG\n",
            "[%] File Downloaded !\n",
            "\n",
            "[%] Downloading Image #11 from https://www.trevorwhiteroses.co.uk/wp-content/uploads/2018/02/Simone-Trevor-White-Shrub-Rose.jpg\n",
            "[%] File Downloaded !\n",
            "\n",
            "[%] Downloading Image #12 from https://www.trevorwhiteroses.co.uk/wp-content/uploads/2018/02/ingrid-bergman-shrub-rose.jpg\n",
            "[%] File Downloaded !\n",
            "\n",
            "[%] Downloading Image #13 from http://wallpaperping.com/wp-content/uploads/2020/06/pexels-photo-736231.jpeg\n",
            "[%] File Downloaded !\n",
            "\n",
            "[%] Downloading Image #14 from https://www.cowellsgc.co.uk/files/images/webshop/rose-sheila-s-perfume-1545222825_l.jpg\n",
            "[%] File Downloaded !\n",
            "\n",
            "[%] Downloading Image #15 from http://getwallpapers.com/wallpaper/full/6/6/b/964774-violet-rose-wallpaper-1080x1920-for-mac.jpg\n",
            "[%] File Downloaded !\n",
            "\n",
            "[%] Downloading Image #16 from https://www.wallpapergeeks.com/wp-content/uploads/2014/02/Hybrid-Tea-Rose-Wallpaper.jpg\n",
            "[%] File Downloaded !\n",
            "\n",
            "[%] Downloading Image #17 from https://www.cowellsgc.co.uk/files/images/webshop/rose-timeless-purple-1546722344_l.jpg\n",
            "[%] File Downloaded !\n",
            "\n",
            "[%] Downloading Image #18 from http://factorydirectcraft.com/pimages/20150227104956-032624/purple_passion_artificial_rose_bush_1.jpg\n",
            "[%] File Downloaded !\n",
            "\n",
            "[%] Downloading Image #19 from http://3.bp.blogspot.com/--hHtwbmFlcM/UFAkGIQ58cI/AAAAAAAADEE/nK1iDZlZXFs/s1600/red+rose.jpg\n",
            "[%] File Downloaded !\n",
            "\n",
            "[%] Downloading Image #20 from https://weknowyourdreams.com/images/rose/rose-03.jpg\n",
            "[!] Issue getting: https://weknowyourdreams.com/images/rose/rose-03.jpg\n",
            "[!] Error:: <urlopen error [SSL: CERTIFICATE_VERIFY_FAILED] certificate verify failed: Hostname mismatch, certificate is not valid for 'weknowyourdreams.com'. (_ssl.c:1091)>\n",
            "[%] Downloading Image #20 from https://allbeststop.com/wp-content/uploads/beautiful-rose-photo-download.jpg\n",
            "[%] File Downloaded !\n",
            "\n",
            "[%] Downloading Image #21 from https://bythedrop.com/gallery/var/albums/plants-flowers/roses/Rose-Heirloom-Purple-to-Lilac.jpg?m=1439161791\n",
            "[%] File Downloaded !\n",
            "\n",
            "[%] Downloading Image #22 from http://minnesotarosesociety.org/wp-content/uploads/2013/08/dublin-rose.jpg\n",
            "[%] File Downloaded !\n",
            "\n",
            "[%] Downloading Image #23 from http://3.bp.blogspot.com/-PTMcU3iDimQ/UFAkJx8jQOI/AAAAAAAADEk/67ZUjOWUIrU/s1600/rose+sybmolism.jpg\n",
            "[%] File Downloaded !\n",
            "\n",
            "[%] Downloading Image #24 from http://sierraflowerfinder.blob.core.windows.net/medias/FlowerPictures/5416/roseberry2.jpg\n",
            "[%] File Downloaded !\n",
            "\n",
            "[%] Downloading Image #25 from http://3.bp.blogspot.com/-sRSE2xF0CDU/T5oSKlTZNTI/AAAAAAAACXQ/FOUeoBj01j8/w1200-h630-p-k-no-nu/DSC06039.JPG\n",
            "[%] File Downloaded !\n",
            "\n",
            "[%] Downloading Image #26 from https://thegardeningcook.com/wp-content/uploads/2017/01/osiria-rosebud-carl.jpg\n",
            "[%] File Downloaded !\n",
            "\n",
            "[%] Downloading Image #27 from http://sierraflowerfinder.blob.core.windows.net/medias/FlowerPictures/6059/Florida%20Rose.JPG\n",
            "[%] File Downloaded !\n",
            "\n",
            "[%] Downloading Image #28 from https://1.bp.blogspot.com/--pjzPU70fUE/T-XCe1zWSkI/AAAAAAAAA5I/XchjJ4C7U7c/s1600/Charlotte+Roses+-+Stein+Your+Florist+Co..JPG\n",
            "[%] File Downloaded !\n",
            "\n",
            "[%] Downloading Image #29 from https://garden.org/pics/2018-02-19/manueldalmeida/1e747f.jpg\n",
            "[%] File Downloaded !\n",
            "\n",
            "[%] Downloading Image #30 from https://www.ftd.com/blog/content/uploads/2018/01/rose-color-meanings-hero.jpg\n",
            "[%] File Downloaded !\n",
            "\n",
            "[%] Downloading Image #31 from https://weknowyourdreams.com/images/rose/rose-06.jpg\n",
            "[!] Issue getting: https://weknowyourdreams.com/images/rose/rose-06.jpg\n",
            "[!] Error:: <urlopen error [SSL: CERTIFICATE_VERIFY_FAILED] certificate verify failed: Hostname mismatch, certificate is not valid for 'weknowyourdreams.com'. (_ssl.c:1091)>\n",
            "[%] Downloading Image #31 from https://www.thetutuguru.com.au/wp-content/uploads/2016/02/Avon-Rose.jpg\n",
            "[%] File Downloaded !\n",
            "\n",
            "[%] Downloading Image #32 from http://viola.bz/wp-content/uploads/2013/01/Bicolor-rose-Osiria.jpg\n",
            "[%] File Downloaded !\n",
            "\n",
            "[%] Downloading Image #33 from http://minnesotarosesociety.org/wp-content/uploads/2013/08/double-delight.jpg\n",
            "[%] File Downloaded !\n",
            "\n",
            "[%] Downloading Image #34 from http://rosesandgardens.com/gardening/wp-content/uploads/2012/02/Garden-Queen.jpg\n",
            "[%] File Downloaded !\n",
            "\n",
            "[%] Downloading Image #35 from http://dreamicus.com/data/rose/rose-01.jpg\n",
            "[%] File Downloaded !\n",
            "\n",
            "[%] Downloading Image #36 from https://cityfloralgreenhouse.com/wp-content/uploads/2013/03/rose-whimsy.jpg\n",
            "[%] File Downloaded !\n",
            "\n",
            "[%] Downloading Image #37 from https://www.quiggsflorist.co.uk/media/catalog/product/cache/1/image/1800x/a4b21b4001cc2132ccb620aaa30c5ed7/i/m/imageload_4__7_1.jpg\n",
            "[%] File Downloaded !\n",
            "\n",
            "[%] Downloading Image #38 from http://minnesotarosesociety.org/wp-content/uploads/2013/08/queen-elizabeth.jpg\n",
            "[%] File Downloaded !\n",
            "\n",
            "\n",
            "\n",
            "[!!]Indexing page: 2\n",
            "\n",
            "[%] Indexed 35 Images on Page 2.\n",
            "\n",
            "===============================================\n",
            "\n",
            "[%] Downloading Image #39 from https://upload.wikimedia.org/wikipedia/commons/thumb/2/28/Rose_Kardinal_crop.jpg/1200px-Rose_Kardinal_crop.jpg\n",
            "[%] File Downloaded !\n",
            "\n",
            "[%] Downloading Image #40 from https://enablelc.org/wp-content/uploads/2017/01/BS-Yellow-rose.jpg\n",
            "[%] File Downloaded !\n",
            "\n",
            "\n",
            "\n",
            "[%] Done. Downloaded 40 images.\n",
            "\n",
            "===============================================\n",
            "\n"
          ],
          "name": "stdout"
        }
      ]
    },
    {
      "cell_type": "code",
      "metadata": {
        "colab": {
          "base_uri": "https://localhost:8080/"
        },
        "id": "L-CQ6xtgtF_f",
        "outputId": "70a79f5f-8ef8-40ac-c182-7aa6b8d71687"
      },
      "source": [
        "downloader.download(\"bananas\", limit=40, output_dir='dataset', adult_filter_off=True, force_replace=False, timeout=60)"
      ],
      "execution_count": 6,
      "outputs": [
        {
          "output_type": "stream",
          "text": [
            "\n",
            "\n",
            "[!!]Indexing page: 1\n",
            "\n",
            "[%] Indexed 40 Images on Page 1.\n",
            "\n",
            "===============================================\n",
            "\n",
            "[%] Downloading Image #1 from https://cdn.britannica.com/83/190683-050-A184C1F4/Green-bananas.jpg\n",
            "[%] File Downloaded !\n",
            "\n",
            "[%] Downloading Image #2 from https://cdn.mos.cms.futurecdn.net/42E9as7NaTaAi4A6JcuFwG-1200-80.jpg\n",
            "[%] File Downloaded !\n",
            "\n",
            "[%] Downloading Image #3 from https://images.newscientist.com/wp-content/uploads/2019/01/31134057/gettyimages-86304874.jpg\n",
            "[%] File Downloaded !\n",
            "\n",
            "[%] Downloading Image #4 from https://www.theglobeandmail.com/resizer/sO982z3F1kU5Z75xb4JAM-zJBAU=/1200x0/filters:quality(80)/arc-anglerfish-tgam-prod-tgam.s3.amazonaws.com/public/UY7R46JKR5HHTDH34DXVXI6KZI\n",
            "[%] File Downloaded !\n",
            "\n",
            "[%] Downloading Image #5 from https://media.npr.org/assets/img/2011/08/19/istock_000017061174small_wide-69bb958273302dc0a2ecaf5050d94a2beeee3376.jpg?s=1400\n",
            "[%] File Downloaded !\n",
            "\n",
            "[%] Downloading Image #6 from http://i2.cdn.turner.com/money/dam/assets/130611125737-dole-bananas-614xa.jpg\n",
            "[%] File Downloaded !\n",
            "\n",
            "[%] Downloading Image #7 from https://article.images.consumerreports.org/prod/content/dam/CRO Images 2018/Health/April/CR-Health-Inlinehero-bananas-good-for-you-0418.jpg\n",
            "[!] Issue getting: https://article.images.consumerreports.org/prod/content/dam/CRO Images 2018/Health/April/CR-Health-Inlinehero-bananas-good-for-you-0418.jpg\n",
            "[!] Error:: URL can't contain control characters. '/prod/content/dam/CRO Images 2018/Health/April/CR-Health-Inlinehero-bananas-good-for-you-0418.jpg' (found at least ' ')\n",
            "[%] Downloading Image #7 from https://www.sciencealert.com/images/articles/processed/cav-bananas_1024.jpg\n",
            "[%] File Downloaded !\n",
            "\n",
            "[%] Downloading Image #8 from http://cdn1.medicalnewstoday.com/content/images/headlines/271/271157/bananas.jpg\n",
            "[!] Issue getting: http://cdn1.medicalnewstoday.com/content/images/headlines/271/271157/bananas.jpg\n",
            "[!] Error:: <urlopen error [Errno -2] Name or service not known>\n",
            "[%] Downloading Image #8 from https://qph.fs.quoracdn.net/main-qimg-175d47e60c9fd2b50c24d3b7096c2ef3\n",
            "[%] File Downloaded !\n",
            "\n",
            "[%] Downloading Image #9 from https://cdn.apartmenttherapy.info/image/fetch/f_auto,q_auto:eco,w_1500,c_fill,g_auto/https://storage.googleapis.com/gen-atmedia/3/2015/03/c139c23da8395155c0f0e554616bc7df3a16aa72.jpeg\n",
            "[%] File Downloaded !\n",
            "\n",
            "[%] Downloading Image #10 from https://doyouremember.com/wp-content/uploads/2018/11/bananas.jpg\n",
            "[%] File Downloaded !\n",
            "\n",
            "[%] Downloading Image #11 from https://www.medicalmedium.com/blog-photos/bananas_medical_medium.jpg\n",
            "[%] File Downloaded !\n",
            "\n",
            "[%] Downloading Image #12 from https://post.greatist.com/wp-content/uploads/sites/3/2020/02/325879_2200-800x1200.jpg\n",
            "[%] File Downloaded !\n",
            "\n",
            "[%] Downloading Image #13 from http://www.pachd.com/free-images/food-images/babanas-01.jpg\n",
            "[%] File Downloaded !\n",
            "\n",
            "[%] Downloading Image #14 from https://cdn.cnn.com/cnnnext/dam/assets/150919154022-05-popular-fruits-bananas-super-169.jpg\n",
            "[%] File Downloaded !\n",
            "\n",
            "[%] Downloading Image #15 from https://static01.nyt.com/images/2017/08/06/nyregion/06BANANASalpha/06BANANASlede1-facebookJumbo.jpg\n",
            "[%] File Downloaded !\n",
            "\n",
            "[%] Downloading Image #16 from http://www.sciencealert.com/images/articles/processed/cavendish-bananas_1024.jpg\n",
            "[%] File Downloaded !\n",
            "\n",
            "[%] Downloading Image #17 from http://images.meredith.com/rrmag/images/2012/01/a_bananas.jpg\n",
            "[%] File Downloaded !\n",
            "\n",
            "[%] Downloading Image #18 from https://upload.wikimedia.org/wikipedia/commons/thumb/9/9b/Cavendish_Banana_DS.jpg/1920px-Cavendish_Banana_DS.jpg\n",
            "[%] File Downloaded !\n",
            "\n",
            "[%] Downloading Image #19 from https://static-secure.guim.co.uk/sys-images/Guardian/Pix/pictures/2014/2/23/1393173498226/Bananas-013.jpg\n",
            "[%] File Downloaded !\n",
            "\n",
            "[%] Downloading Image #20 from https://cdn.newsapi.com.au/image/v1/2203d14edaad8f7c7d45805b06c658ec\n",
            "[%] File Downloaded !\n",
            "\n",
            "[%] Downloading Image #21 from https://dish-environment-prod-contentbucket-10u8bszryovz3.s3.amazonaws.com/assets/s3fs-public/styles/social_share/public/bananas_393373.jpg?itok=Jes3QD2m\n",
            "[%] File Downloaded !\n",
            "\n",
            "[%] Downloading Image #22 from https://www.manilaspoon.com/wp-content/uploads/2021/02/SweetenedBananas-6-640x858.jpg\n",
            "[%] File Downloaded !\n",
            "\n",
            "[%] Downloading Image #23 from http://2.bp.blogspot.com/-tNS99AXHBo0/UjXDXEYEJ7I/AAAAAAAAAUU/jEp9C1oOfkw/s1600/bananas-1.jpg\n",
            "[%] File Downloaded !\n",
            "\n",
            "[%] Downloading Image #24 from https://microbewiki.kenyon.edu/images/9/99/Bananas.JPG\n",
            "[%] File Downloaded !\n",
            "\n",
            "[%] Downloading Image #25 from https://s-i.huffpost.com/gen/2796298/images/o-BANANA-facebook.jpg\n",
            "[%] File Downloaded !\n",
            "\n",
            "[%] Downloading Image #26 from https://s3.amazonaws.com/secretsaucefiles/photos/images/000/101/084/large/Spoon-banana-Eunice.jpg?1485301530\n",
            "[%] File Downloaded !\n",
            "\n",
            "[%] Downloading Image #27 from https://i2.cdn.turner.com/money/dam/assets/140310074250-chiquita-bananas-1024x576.jpg\n",
            "[%] File Downloaded !\n",
            "\n",
            "[%] Downloading Image #28 from http://cbsnews1.cbsistatic.com/hub/i/2011/04/22/de388cf4-a643-11e2-a3f0-029118418759/Banana.jpg\n",
            "[%] File Downloaded !\n",
            "\n",
            "[%] Downloading Image #29 from http://cdn-image.myrecipes.com/sites/default/files/styles/4_3_horizontal_-_1200x900/public/1489682745/GettyImages-84505254.jpg?itok=W1KIJxVL\n",
            "[%] File Downloaded !\n",
            "\n",
            "[%] Downloading Image #30 from http://i.telegraph.co.uk/multimedia/archive/02462/bananas_2462839k.jpg\n",
            "[Error]Invalid image, not saving http://i.telegraph.co.uk/multimedia/archive/02462/bananas_2462839k.jpg\n",
            "\n",
            "[!] Issue getting: http://i.telegraph.co.uk/multimedia/archive/02462/bananas_2462839k.jpg\n",
            "[!] Error:: No active exception to reraise\n",
            "[%] Downloading Image #30 from https://www.farminglocal.com/media/com_jbusinessdirectory/pictures/offers/24/bananas.jpg\n",
            "[%] File Downloaded !\n",
            "\n",
            "[%] Downloading Image #31 from http://i2.cdn.turner.com/cnnnext/dam/assets/140310084914-bananas-horizontal-large-gallery.jpg\n",
            "[%] File Downloaded !\n",
            "\n",
            "[%] Downloading Image #32 from http://4.bp.blogspot.com/_6s2JueuqZec/TA0I9AAorAI/AAAAAAAAEsM/CcJyFmjCXxQ/s1600/Banana.jpg\n",
            "[%] File Downloaded !\n",
            "\n",
            "[%] Downloading Image #33 from http://img.aws.livestrongcdn.com/ls-1200x630/cme/cme_public_images/www_livestrong_com/photos.demandstudios.com/getty/article/103/51/457512575_XS.jpg\n",
            "[%] File Downloaded !\n",
            "\n",
            "[%] Downloading Image #34 from https://i.ytimg.com/vi/Km6b-RlUkfI/hqdefault.jpg\n",
            "[%] File Downloaded !\n",
            "\n",
            "[%] Downloading Image #35 from http://www.gannett-cdn.com/-mm-/32569a2c1cb7e8bc98bc61d478522cecce3aa938/c=0-153-3938-2378&amp;r=x1683&amp;c=3200x1680/local/-/media/2016/05/17/USATODAY/USATODAY/635991250269026686-ThinkstockPhotos-452415627.jpg\n",
            "[!] Issue getting: http://www.gannett-cdn.com/-mm-/32569a2c1cb7e8bc98bc61d478522cecce3aa938/c=0-153-3938-2378&amp;r=x1683&amp;c=3200x1680/local/-/media/2016/05/17/USATODAY/USATODAY/635991250269026686-ThinkstockPhotos-452415627.jpg\n",
            "[!] Error:: HTTP Error 403: Forbidden\n",
            "[%] Downloading Image #35 from http://cdn.iflscience.com/images/6326b258-6415-5cc3-8ffc-c25a93fce510/default-1464370449-4150-bananas-could-go-extinct.jpg\n",
            "[%] File Downloaded !\n",
            "\n",
            "[%] Downloading Image #36 from https://dish-environment-prod-contentbucket-10u8bszryovz3.s3.amazonaws.com/assets/s3fs-public/styles/social_share/public/102265846-Ripe-Bananas-Photo-by-Meredith-650x465.jpg?itok=wZLGCTWU\n",
            "[%] File Downloaded !\n",
            "\n",
            "\n",
            "\n",
            "[!!]Indexing page: 2\n",
            "\n",
            "[%] Indexed 35 Images on Page 2.\n",
            "\n",
            "===============================================\n",
            "\n",
            "[%] Downloading Image #37 from https://cdn.britannica.com/83/190683-050-A184C1F4/Green-bananas.jpg\n",
            "[%] File Downloaded !\n",
            "\n",
            "[%] Downloading Image #38 from https://cdn.mos.cms.futurecdn.net/42E9as7NaTaAi4A6JcuFwG-1200-80.jpg\n",
            "[%] File Downloaded !\n",
            "\n",
            "[%] Downloading Image #39 from https://images.newscientist.com/wp-content/uploads/2019/01/31134057/gettyimages-86304874.jpg\n",
            "[%] File Downloaded !\n",
            "\n",
            "[%] Downloading Image #40 from https://www.theglobeandmail.com/resizer/sO982z3F1kU5Z75xb4JAM-zJBAU=/1200x0/filters:quality(80)/arc-anglerfish-tgam-prod-tgam.s3.amazonaws.com/public/UY7R46JKR5HHTDH34DXVXI6KZI\n",
            "[%] File Downloaded !\n",
            "\n",
            "\n",
            "\n",
            "[%] Done. Downloaded 40 images.\n",
            "\n",
            "===============================================\n",
            "\n"
          ],
          "name": "stdout"
        }
      ]
    },
    {
      "cell_type": "code",
      "metadata": {
        "id": "_hFgaawxuBwq"
      },
      "source": [
        "import os \n",
        "import matplotlib.pyplot as plt\n",
        "import numpy as np\n",
        "from skimage.io import imread\n",
        "from skimage.transform import resize"
      ],
      "execution_count": 8,
      "outputs": []
    },
    {
      "cell_type": "code",
      "metadata": {
        "id": "ruYUUzaUw1_6"
      },
      "source": [
        "#preprocessing data\n",
        "\n",
        "target = []\n",
        "\n",
        "images = []\n",
        "#images will be in matrix form\n",
        "flat_data = []\n",
        "\n",
        "\n",
        "path = '/content/dataset'\n",
        "#getting the path with all the data\n",
        "\n",
        "cat = ['bananas', 'rose', 'zayn malik', 'polar bears']\n",
        "\n",
        "for c in cat:\n",
        "  index = cat.index(c)\n",
        "  p = os.path.join(path, c)\n",
        "  #print(p)\n",
        "  for img in os.listdir(p):\n",
        "    a = imread(os.path.join(p, img))\n",
        "    \n",
        "    \n",
        "    #plt.imshow(a) #this helps to get the image from the coordinates\n",
        "    #print(a)\n",
        "\n",
        "#now we should resize and flatten the image\n",
        "\n",
        "    img_resize = resize(a, (150, 150, 3)) #size and rgb, the value is normalized to stay within 0 and 1\n",
        "    flat_data.append(img_resize.flatten())\n",
        "    images.append(img_resize)\n",
        "    target.append(index)\n",
        "\n",
        "flat_data = np.array(flat_data)\n",
        "target = np.array(target)\n",
        "images = np.array(images)    "
      ],
      "execution_count": 9,
      "outputs": []
    },
    {
      "cell_type": "code",
      "metadata": {
        "colab": {
          "base_uri": "https://localhost:8080/"
        },
        "id": "ywc79lWoXk7A",
        "outputId": "a448ebac-ac03-40a1-b1d0-9f7531638467"
      },
      "source": [
        "flat_data.shape"
      ],
      "execution_count": 10,
      "outputs": [
        {
          "output_type": "execute_result",
          "data": {
            "text/plain": [
              "(160, 67500)"
            ]
          },
          "metadata": {
            "tags": []
          },
          "execution_count": 10
        }
      ]
    },
    {
      "cell_type": "code",
      "metadata": {
        "colab": {
          "base_uri": "https://localhost:8080/"
        },
        "id": "AnBRM5zRUsjP",
        "outputId": "b185de8f-365f-4908-b702-4d0731b76119"
      },
      "source": [
        "#ml part where the data is split into test and train data\n",
        "\n",
        "from sklearn.model_selection import train_test_split\n",
        "\n",
        "x_train, x_test, y_train, y_test = train_test_split(flat_data, target, test_size=0.3, random_state=109)\n",
        "\n",
        "\n",
        "from sklearn.model_selection import GridSearchCV\n",
        "from sklearn import svm\n",
        "\n",
        "param_grid = [{'C':[1, 10, 100, 1000], 'kernel':['linear']},\n",
        "           {'C':[1, 10, 100, 1000], 'gamma':[0.001, 0.0001], 'kernel':['rbf']}]\n",
        "\n",
        "#trying to find the best value for C and kernel here\n",
        "\n",
        "svc = svm.SVC(probability=True)\n",
        "clf = GridSearchCV(svc, param_grid)\n",
        "clf.fit(x_train, y_train)"
      ],
      "execution_count": 11,
      "outputs": [
        {
          "output_type": "execute_result",
          "data": {
            "text/plain": [
              "GridSearchCV(cv=None, error_score=nan,\n",
              "             estimator=SVC(C=1.0, break_ties=False, cache_size=200,\n",
              "                           class_weight=None, coef0=0.0,\n",
              "                           decision_function_shape='ovr', degree=3,\n",
              "                           gamma='scale', kernel='rbf', max_iter=-1,\n",
              "                           probability=True, random_state=None, shrinking=True,\n",
              "                           tol=0.001, verbose=False),\n",
              "             iid='deprecated', n_jobs=None,\n",
              "             param_grid=[{'C': [1, 10, 100, 1000], 'kernel': ['linear']},\n",
              "                         {'C': [1, 10, 100, 1000], 'gamma': [0.001, 0.0001],\n",
              "                          'kernel': ['rbf']}],\n",
              "             pre_dispatch='2*n_jobs', refit=True, return_train_score=False,\n",
              "             scoring=None, verbose=0)"
            ]
          },
          "metadata": {
            "tags": []
          },
          "execution_count": 11
        }
      ]
    },
    {
      "cell_type": "code",
      "metadata": {
        "colab": {
          "base_uri": "https://localhost:8080/"
        },
        "id": "BteSWPCSeJKD",
        "outputId": "71460199-5b3a-4655-b24f-72707cdcf4b5"
      },
      "source": [
        "y_pred = clf.predict(x_test)\n",
        "y_pred"
      ],
      "execution_count": 12,
      "outputs": [
        {
          "output_type": "execute_result",
          "data": {
            "text/plain": [
              "array([3, 2, 2, 0, 2, 0, 0, 1, 3, 1, 1, 3, 1, 3, 0, 1, 3, 2, 2, 1, 3, 0,\n",
              "       0, 0, 3, 0, 2, 2, 0, 2, 3, 2, 0, 3, 3, 3, 0, 2, 2, 1, 1, 3, 2, 1,\n",
              "       3, 2, 3, 2])"
            ]
          },
          "metadata": {
            "tags": []
          },
          "execution_count": 12
        }
      ]
    },
    {
      "cell_type": "code",
      "metadata": {
        "colab": {
          "base_uri": "https://localhost:8080/"
        },
        "id": "9FLk9KKVeOis",
        "outputId": "37e2f257-75c6-4c41-823b-28226a57e295"
      },
      "source": [
        "y_test"
      ],
      "execution_count": 13,
      "outputs": [
        {
          "output_type": "execute_result",
          "data": {
            "text/plain": [
              "array([3, 0, 2, 0, 2, 0, 0, 1, 3, 1, 1, 3, 1, 3, 0, 1, 3, 2, 2, 1, 3, 0,\n",
              "       0, 0, 3, 0, 2, 2, 0, 2, 3, 3, 0, 3, 3, 3, 0, 2, 2, 1, 1, 3, 2, 1,\n",
              "       3, 2, 1, 2])"
            ]
          },
          "metadata": {
            "tags": []
          },
          "execution_count": 13
        }
      ]
    },
    {
      "cell_type": "code",
      "metadata": {
        "colab": {
          "base_uri": "https://localhost:8080/"
        },
        "id": "QjTmkqJPeShw",
        "outputId": "46b5a529-86cb-41fe-cd16-bf0473c959a7"
      },
      "source": [
        "from sklearn.metrics import accuracy_score, confusion_matrix\n",
        "\n",
        "accuracy_score(y_pred, y_test)"
      ],
      "execution_count": 14,
      "outputs": [
        {
          "output_type": "execute_result",
          "data": {
            "text/plain": [
              "0.9375"
            ]
          },
          "metadata": {
            "tags": []
          },
          "execution_count": 14
        }
      ]
    },
    {
      "cell_type": "code",
      "metadata": {
        "colab": {
          "base_uri": "https://localhost:8080/"
        },
        "id": "XEfsLXD0efv2",
        "outputId": "8e0e1a16-0741-4d03-a197-426e82b152dd"
      },
      "source": [
        "confusion_matrix(y_pred, y_test)\n",
        "#shows a difference in 3 cases alone so kind of took this as a good accuracy"
      ],
      "execution_count": 17,
      "outputs": [
        {
          "output_type": "execute_result",
          "data": {
            "text/plain": [
              "array([[11,  0,  0,  0],\n",
              "       [ 0,  9,  0,  0],\n",
              "       [ 1,  0, 12,  1],\n",
              "       [ 0,  1,  0, 13]])"
            ]
          },
          "metadata": {
            "tags": []
          },
          "execution_count": 17
        }
      ]
    },
    {
      "cell_type": "code",
      "metadata": {
        "id": "2XNfJxQSeshx"
      },
      "source": [
        "#save the model using pickle library\n",
        "\n",
        "import pickle\n",
        "pickle.dump(clf, open('model.p', 'wb'))\n",
        "#saving the model"
      ],
      "execution_count": 18,
      "outputs": []
    },
    {
      "cell_type": "code",
      "metadata": {
        "id": "plLwUkN8wTYF"
      },
      "source": [
        "model = pickle.load(open('model.p', 'rb'))\n",
        "#reading the file"
      ],
      "execution_count": 19,
      "outputs": []
    },
    {
      "cell_type": "code",
      "metadata": {
        "colab": {
          "base_uri": "https://localhost:8080/",
          "height": 320
        },
        "id": "ochUf4nGyyag",
        "outputId": "8893a013-b70d-4a4d-be59-3d0f3f8a6f3c"
      },
      "source": [
        "#to test for a new image\n",
        "\n",
        "flat_data = []\n",
        "url = input('Enter the url\\n')\n",
        "img = imread(url)\n",
        "img_resize = resize(img, (150, 150, 3))\n",
        "flat_data.append(img_resize.flatten())\n",
        "flat_data = np.array(flat_data)\n",
        "#print(img.shape)\n",
        "plt.imshow(img_resize)\n",
        "y_out = model.predict(flat_data)\n",
        "y_out = cat[y_out[0]]\n",
        "print(f\"Predicted output = {y_out}\")"
      ],
      "execution_count": 20,
      "outputs": [
        {
          "output_type": "stream",
          "text": [
            "Enter the url\n",
            "https://upload.wikimedia.org/wikipedia/commons/thumb/0/09/Polar_Bear_-_Alaska.jpg/220px-Polar_Bear_-_Alaska.jpg\n",
            "Predicted output = polar bears\n"
          ],
          "name": "stdout"
        },
        {
          "output_type": "display_data",
          "data": {
            "image/png": "[encoded data removed]",
            "text/plain": [
              "<Figure size 432x288 with 1 Axes>"
            ]
          },
          "metadata": {
            "tags": [],
            "needs_background": "light"
          }
        }
      ]
    },
    {
      "cell_type": "code",
      "metadata": {
        "colab": {
          "base_uri": "https://localhost:8080/"
        },
        "id": "GgxXejC35K4I",
        "outputId": "cf0214d9-1b98-42ab-f3a8-3d9a866c962f"
      },
      "source": [
        "!pip install streamlit\n",
        "\n",
        "!pip install pyngrok\n",
        "from pyngrok import ngrok"
      ],
      "execution_count": 1,
      "outputs": [
        {
          "output_type": "stream",
          "text": [
            "Requirement already satisfied: streamlit in /usr/local/lib/python3.7/dist-packages (0.77.0)\n",
            "Requirement already satisfied: watchdog; platform_system != \"Darwin\" in /usr/local/lib/python3.7/dist-packages (from streamlit) (2.0.2)\n",
            "Requirement already satisfied: numpy in /usr/local/lib/python3.7/dist-packages (from streamlit) (1.19.5)\n",
            "Requirement already satisfied: protobuf!=3.11,>=3.6.0 in /usr/local/lib/python3.7/dist-packages (from streamlit) (3.12.4)\n",
            "Requirement already satisfied: astor in /usr/local/lib/python3.7/dist-packages (from streamlit) (0.8.1)\n",
            "Requirement already satisfied: packaging in /usr/local/lib/python3.7/dist-packages (from streamlit) (20.9)\n",
            "Requirement already satisfied: toml in /usr/local/lib/python3.7/dist-packages (from streamlit) (0.10.2)\n",
            "Requirement already satisfied: tornado>=5.0 in /usr/local/lib/python3.7/dist-packages (from streamlit) (5.1.1)\n",
            "Requirement already satisfied: tzlocal in /usr/local/lib/python3.7/dist-packages (from streamlit) (1.5.1)\n",
            "Requirement already satisfied: requests in /usr/local/lib/python3.7/dist-packages (from streamlit) (2.23.0)\n",
            "Requirement already satisfied: pyarrow; python_version < \"3.9\" in /usr/local/lib/python3.7/dist-packages (from streamlit) (3.0.0)\n",
            "Requirement already satisfied: base58 in /usr/local/lib/python3.7/dist-packages (from streamlit) (2.1.0)\n",
            "Requirement already satisfied: pydeck>=0.1.dev5 in /usr/local/lib/python3.7/dist-packages (from streamlit) (0.6.1)\n",
            "Requirement already satisfied: click>=7.0 in /usr/local/lib/python3.7/dist-packages (from streamlit) (7.1.2)\n",
            "Requirement already satisfied: gitpython in /usr/local/lib/python3.7/dist-packages (from streamlit) (3.1.14)\n",
            "Requirement already satisfied: validators in /usr/local/lib/python3.7/dist-packages (from streamlit) (0.18.2)\n",
            "Requirement already satisfied: pillow>=6.2.0 in /usr/local/lib/python3.7/dist-packages (from streamlit) (7.0.0)\n",
            "Requirement already satisfied: altair>=3.2.0 in /usr/local/lib/python3.7/dist-packages (from streamlit) (4.1.0)\n",
            "Requirement already satisfied: pandas>=0.21.0 in /usr/local/lib/python3.7/dist-packages (from streamlit) (1.1.5)\n",
            "Requirement already satisfied: python-dateutil in /usr/local/lib/python3.7/dist-packages (from streamlit) (2.8.1)\n",
            "Requirement already satisfied: cachetools>=4.0 in /usr/local/lib/python3.7/dist-packages (from streamlit) (4.2.1)\n",
            "Requirement already satisfied: blinker in /usr/local/lib/python3.7/dist-packages (from streamlit) (1.4)\n",
            "Requirement already satisfied: setuptools in /usr/local/lib/python3.7/dist-packages (from protobuf!=3.11,>=3.6.0->streamlit) (54.0.0)\n",
            "Requirement already satisfied: six>=1.9 in /usr/local/lib/python3.7/dist-packages (from protobuf!=3.11,>=3.6.0->streamlit) (1.15.0)\n",
            "Requirement already satisfied: pyparsing>=2.0.2 in /usr/local/lib/python3.7/dist-packages (from packaging->streamlit) (2.4.7)\n",
            "Requirement already satisfied: pytz in /usr/local/lib/python3.7/dist-packages (from tzlocal->streamlit) (2018.9)\n",
            "Requirement already satisfied: idna<3,>=2.5 in /usr/local/lib/python3.7/dist-packages (from requests->streamlit) (2.10)\n",
            "Requirement already satisfied: certifi>=2017.4.17 in /usr/local/lib/python3.7/dist-packages (from requests->streamlit) (2020.12.5)\n",
            "Requirement already satisfied: chardet<4,>=3.0.2 in /usr/local/lib/python3.7/dist-packages (from requests->streamlit) (3.0.4)\n",
            "Requirement already satisfied: urllib3!=1.25.0,!=1.25.1,<1.26,>=1.21.1 in /usr/local/lib/python3.7/dist-packages (from requests->streamlit) (1.24.3)\n",
            "Requirement already satisfied: ipykernel>=5.1.2; python_version >= \"3.4\" in /usr/local/lib/python3.7/dist-packages (from pydeck>=0.1.dev5->streamlit) (5.5.0)\n",
            "Requirement already satisfied: ipywidgets>=7.0.0 in /usr/local/lib/python3.7/dist-packages (from pydeck>=0.1.dev5->streamlit) (7.6.3)\n",
            "Requirement already satisfied: jinja2>=2.10.1 in /usr/local/lib/python3.7/dist-packages (from pydeck>=0.1.dev5->streamlit) (2.11.3)\n",
            "Requirement already satisfied: traitlets>=4.3.2 in /usr/local/lib/python3.7/dist-packages (from pydeck>=0.1.dev5->streamlit) (5.0.5)\n",
            "Requirement already satisfied: gitdb<5,>=4.0.1 in /usr/local/lib/python3.7/dist-packages (from gitpython->streamlit) (4.0.5)\n",
            "Requirement already satisfied: decorator>=3.4.0 in /usr/local/lib/python3.7/dist-packages (from validators->streamlit) (4.4.2)\n",
            "Requirement already satisfied: jsonschema in /usr/local/lib/python3.7/dist-packages (from altair>=3.2.0->streamlit) (2.6.0)\n",
            "Requirement already satisfied: entrypoints in /usr/local/lib/python3.7/dist-packages (from altair>=3.2.0->streamlit) (0.3)\n",
            "Requirement already satisfied: toolz in /usr/local/lib/python3.7/dist-packages (from altair>=3.2.0->streamlit) (0.11.1)\n",
            "Requirement already satisfied: jupyter-client in /usr/local/lib/python3.7/dist-packages (from ipykernel>=5.1.2; python_version >= \"3.4\"->pydeck>=0.1.dev5->streamlit) (5.3.5)\n",
            "Requirement already satisfied: ipython>=5.0.0 in /usr/local/lib/python3.7/dist-packages (from ipykernel>=5.1.2; python_version >= \"3.4\"->pydeck>=0.1.dev5->streamlit) (5.5.0)\n",
            "Requirement already satisfied: nbformat>=4.2.0 in /usr/local/lib/python3.7/dist-packages (from ipywidgets>=7.0.0->pydeck>=0.1.dev5->streamlit) (5.1.2)\n",
            "Requirement already satisfied: jupyterlab-widgets>=1.0.0; python_version >= \"3.6\" in /usr/local/lib/python3.7/dist-packages (from ipywidgets>=7.0.0->pydeck>=0.1.dev5->streamlit) (1.0.0)\n",
            "Requirement already satisfied: widgetsnbextension~=3.5.0 in /usr/local/lib/python3.7/dist-packages (from ipywidgets>=7.0.0->pydeck>=0.1.dev5->streamlit) (3.5.1)\n",
            "Requirement already satisfied: MarkupSafe>=0.23 in /usr/local/lib/python3.7/dist-packages (from jinja2>=2.10.1->pydeck>=0.1.dev5->streamlit) (1.1.1)\n",
            "Requirement already satisfied: ipython-genutils in /usr/local/lib/python3.7/dist-packages (from traitlets>=4.3.2->pydeck>=0.1.dev5->streamlit) (0.2.0)\n",
            "Requirement already satisfied: smmap<4,>=3.0.1 in /usr/local/lib/python3.7/dist-packages (from gitdb<5,>=4.0.1->gitpython->streamlit) (3.0.5)\n",
            "Requirement already satisfied: jupyter-core>=4.6.0 in /usr/local/lib/python3.7/dist-packages (from jupyter-client->ipykernel>=5.1.2; python_version >= \"3.4\"->pydeck>=0.1.dev5->streamlit) (4.7.1)\n",
            "Requirement already satisfied: pyzmq>=13 in /usr/local/lib/python3.7/dist-packages (from jupyter-client->ipykernel>=5.1.2; python_version >= \"3.4\"->pydeck>=0.1.dev5->streamlit) (22.0.3)\n",
            "Requirement already satisfied: pygments in /usr/local/lib/python3.7/dist-packages (from ipython>=5.0.0->ipykernel>=5.1.2; python_version >= \"3.4\"->pydeck>=0.1.dev5->streamlit) (2.6.1)\n",
            "Requirement already satisfied: simplegeneric>0.8 in /usr/local/lib/python3.7/dist-packages (from ipython>=5.0.0->ipykernel>=5.1.2; python_version >= \"3.4\"->pydeck>=0.1.dev5->streamlit) (0.8.1)\n",
            "Requirement already satisfied: pexpect; sys_platform != \"win32\" in /usr/local/lib/python3.7/dist-packages (from ipython>=5.0.0->ipykernel>=5.1.2; python_version >= \"3.4\"->pydeck>=0.1.dev5->streamlit) (4.8.0)\n",
            "Requirement already satisfied: prompt-toolkit<2.0.0,>=1.0.4 in /usr/local/lib/python3.7/dist-packages (from ipython>=5.0.0->ipykernel>=5.1.2; python_version >= \"3.4\"->pydeck>=0.1.dev5->streamlit) (1.0.18)\n",
            "Requirement already satisfied: pickleshare in /usr/local/lib/python3.7/dist-packages (from ipython>=5.0.0->ipykernel>=5.1.2; python_version >= \"3.4\"->pydeck>=0.1.dev5->streamlit) (0.7.5)\n",
            "Requirement already satisfied: notebook>=4.4.1 in /usr/local/lib/python3.7/dist-packages (from widgetsnbextension~=3.5.0->ipywidgets>=7.0.0->pydeck>=0.1.dev5->streamlit) (5.3.1)\n",
            "Requirement already satisfied: ptyprocess>=0.5 in /usr/local/lib/python3.7/dist-packages (from pexpect; sys_platform != \"win32\"->ipython>=5.0.0->ipykernel>=5.1.2; python_version >= \"3.4\"->pydeck>=0.1.dev5->streamlit) (0.7.0)\n",
            "Requirement already satisfied: wcwidth in /usr/local/lib/python3.7/dist-packages (from prompt-toolkit<2.0.0,>=1.0.4->ipython>=5.0.0->ipykernel>=5.1.2; python_version >= \"3.4\"->pydeck>=0.1.dev5->streamlit) (0.2.5)\n",
            "Requirement already satisfied: terminado>=0.8.1 in /usr/local/lib/python3.7/dist-packages (from notebook>=4.4.1->widgetsnbextension~=3.5.0->ipywidgets>=7.0.0->pydeck>=0.1.dev5->streamlit) (0.9.2)\n",
            "Requirement already satisfied: nbconvert in /usr/local/lib/python3.7/dist-packages (from notebook>=4.4.1->widgetsnbextension~=3.5.0->ipywidgets>=7.0.0->pydeck>=0.1.dev5->streamlit) (5.6.1)\n",
            "Requirement already satisfied: Send2Trash in /usr/local/lib/python3.7/dist-packages (from notebook>=4.4.1->widgetsnbextension~=3.5.0->ipywidgets>=7.0.0->pydeck>=0.1.dev5->streamlit) (1.5.0)\n",
            "Requirement already satisfied: pandocfilters>=1.4.1 in /usr/local/lib/python3.7/dist-packages (from nbconvert->notebook>=4.4.1->widgetsnbextension~=3.5.0->ipywidgets>=7.0.0->pydeck>=0.1.dev5->streamlit) (1.4.3)\n",
            "Requirement already satisfied: bleach in /usr/local/lib/python3.7/dist-packages (from nbconvert->notebook>=4.4.1->widgetsnbextension~=3.5.0->ipywidgets>=7.0.0->pydeck>=0.1.dev5->streamlit) (3.3.0)\n",
            "Requirement already satisfied: mistune<2,>=0.8.1 in /usr/local/lib/python3.7/dist-packages (from nbconvert->notebook>=4.4.1->widgetsnbextension~=3.5.0->ipywidgets>=7.0.0->pydeck>=0.1.dev5->streamlit) (0.8.4)\n",
            "Requirement already satisfied: defusedxml in /usr/local/lib/python3.7/dist-packages (from nbconvert->notebook>=4.4.1->widgetsnbextension~=3.5.0->ipywidgets>=7.0.0->pydeck>=0.1.dev5->streamlit) (0.6.0)\n",
            "Requirement already satisfied: testpath in /usr/local/lib/python3.7/dist-packages (from nbconvert->notebook>=4.4.1->widgetsnbextension~=3.5.0->ipywidgets>=7.0.0->pydeck>=0.1.dev5->streamlit) (0.4.4)\n",
            "Requirement already satisfied: webencodings in /usr/local/lib/python3.7/dist-packages (from bleach->nbconvert->notebook>=4.4.1->widgetsnbextension~=3.5.0->ipywidgets>=7.0.0->pydeck>=0.1.dev5->streamlit) (0.5.1)\n",
            "Requirement already satisfied: pyngrok in /usr/local/lib/python3.7/dist-packages (5.0.2)\n",
            "Requirement already satisfied: PyYAML in /usr/local/lib/python3.7/dist-packages (from pyngrok) (3.13)\n"
          ],
          "name": "stdout"
        }
      ]
    },
    {
      "cell_type": "code",
      "metadata": {
        "colab": {
          "base_uri": "https://localhost:8080/"
        },
        "id": "aZpl6_vY7WRj",
        "outputId": "a65eaea8-8328-4ae5-8bb4-2fc49de2a337"
      },
      "source": [
        "#deploying as a web app\n",
        "%%writefile app.py\n",
        "\n",
        "import streamlit as st\n",
        "import os \n",
        "import numpy as np\n",
        "from skimage.io import imread\n",
        "from skimage.transform import resize\n",
        "import pickle\n",
        "from PIL import Image\n",
        "\n",
        "\n",
        "st.title('Image Classifier')\n",
        "st.text('Upload the image')\n",
        "\n",
        "model = pickle.load(open('model.p', 'rb'))\n",
        "\n",
        "upload = st.file_uploader(\"Choose an image\", type=\"jpeg\")\n",
        "\n",
        "if upload is not None:\n",
        "  img = Image.open(upload)\n",
        "  st.image(img, caption='Uploaded image')\n",
        "\n",
        "  cat = ['bananas', 'rose', 'zayn malik', 'polar bears']\n",
        "\n",
        "  if st.button('PREDICT'):\n",
        "    st.write(\"Result:\")\n",
        "    flat_data = []\n",
        "    img = np.array(img)\n",
        "    img_resize = resize(img, (150, 150, 3))\n",
        "    flat_data.append(img_resize.flatten())\n",
        "    flat_data = np.array(flat_data)\n",
        "#print(img.shape)\n",
        "    y_out = model.predict(flat_data)\n",
        "    y_out = cat[y_out[0]]\n",
        "    st.title(f\"Predicted output = {y_out}\")\n",
        "    q = model.predict_proba(flat_data)\n",
        "    for index, item in enumerate(cat):\n",
        "        st.write(f'{item} : {q[0][index]*100}')\n"
      ],
      "execution_count": 3,
      "outputs": [
        {
          "output_type": "stream",
          "text": [
            "Overwriting app.py\n"
          ],
          "name": "stdout"
        }
      ]
    },
    {
      "cell_type": "code",
      "metadata": {
        "colab": {
          "base_uri": "https://localhost:8080/"
        },
        "id": "ec6lN5PDC9z4",
        "outputId": "af9bb617-0be3-4c30-bd95-754fbded4b2d"
      },
      "source": [
        "!nohup streamlit run app.py &\n",
        "\n",
        "url = ngrok.connect('8501')\n",
        "url"
      ],
      "execution_count": 2,
      "outputs": [
        {
          "output_type": "stream",
          "text": [
            "nohup: appending output to 'nohup.out'\n"
          ],
          "name": "stdout"
        },
        {
          "output_type": "execute_result",
          "data": {
            "text/plain": [
              "<NgrokTunnel: \"http://e9b3930d814e.ngrok.io\" -> \"http://localhost:8501\">"
            ]
          },
          "metadata": {
            "tags": []
          },
          "execution_count": 2
        }
      ]
    }
  ]
}