{
  "nbformat": 4,
  "nbformat_minor": 0,
  "metadata": {
    "kernelspec": {
      "display_name": "Python 3",
      "language": "python",
      "name": "python3"
    },
    "language_info": {
      "codemirror_mode": {
        "name": "ipython",
        "version": 3
      },
      "file_extension": ".py",
      "mimetype": "text/x-python",
      "name": "python",
      "nbconvert_exporter": "python",
      "pygments_lexer": "ipython3",
      "version": "3.8.3"
    },
    "colab": {
      "name": "Assignment01_12_09_2020.ipynb",
      "provenance": [],
      "collapsed_sections": [],
      "include_colab_link": true
    }
  },
  "cells": [
    {
      "cell_type": "markdown",
      "metadata": {
        "id": "view-in-github",
        "colab_type": "text"
      },
      "source": [
        "<a href=\"https://colab.research.google.com/github/kit1412/basicprojects/blob/pythoncodes/Assignment01_12_09_2020.ipynb\" target=\"_parent\"><img src=\"https://colab.research.google.com/assets/colab-badge.svg\" alt=\"Open In Colab\"/></a>"
      ]
    },
    {
      "cell_type": "markdown",
      "metadata": {
        "id": "zUatf9XOgMXf"
      },
      "source": [
        "1. Check whether an integer is divisible by 12 or not using appropriate operator."
      ]
    },
    {
      "cell_type": "code",
      "metadata": {
        "id": "BELGHE7kgKGc",
        "colab": {
          "base_uri": "https://localhost:8080/",
          "height": 70
        },
        "outputId": "7da0b5ca-02e1-4bb3-cadc-7c89086c09a8"
      },
      "source": [
        "a = int(input(\"Enter a value\\n\"))\n",
        "if (a % 12 == 0):\n",
        "   print(\"divisible by 12\")\n",
        "else:\n",
        "   print(\"not divisible by 12\")\n",
        "\n",
        "#checking if dividing by 12 gives a remainder or not"
      ],
      "execution_count": null,
      "outputs": [
        {
          "output_type": "stream",
          "text": [
            "Enter a value\n",
            "24\n",
            "divisible by 12\n"
          ],
          "name": "stdout"
        }
      ]
    },
    {
      "cell_type": "markdown",
      "metadata": {
        "id": "zub3sFhAiw7C"
      },
      "source": [
        " 2.\tFind 67^10"
      ]
    },
    {
      "cell_type": "code",
      "metadata": {
        "id": "07Htv0mjgKGg",
        "outputId": "efe9360d-ee3c-43d2-e3b7-768b4d0213a4"
      },
      "source": [
        "print(pow(67, 10)) #using built-in function"
      ],
      "execution_count": null,
      "outputs": [
        {
          "output_type": "stream",
          "text": [
            "1822837804551761449\n"
          ],
          "name": "stdout"
        }
      ]
    },
    {
      "cell_type": "markdown",
      "metadata": {
        "id": "7_1UPNBdi5Zl"
      },
      "source": [
        "3.\tType the following code in python and say why error is raised\n",
        "if = “ISE Department”\n"
      ]
    },
    {
      "cell_type": "code",
      "metadata": {
        "id": "2U1SifJCgKGk",
        "outputId": "62a2fc1f-8076-4118-f430-1bbfa1394c1b"
      },
      "source": [
        "if = \"ISE DEPARTMENT\" "
      ],
      "execution_count": null,
      "outputs": [
        {
          "output_type": "error",
          "ename": "SyntaxError",
          "evalue": "invalid syntax (<ipython-input-4-fa222ff11b09>, line 1)",
          "traceback": [
            "\u001b[1;36m  File \u001b[1;32m\"<ipython-input-4-fa222ff11b09>\"\u001b[1;36m, line \u001b[1;32m1\u001b[0m\n\u001b[1;33m    if = \"ISE DEPARTMENT\"\u001b[0m\n\u001b[1;37m       ^\u001b[0m\n\u001b[1;31mSyntaxError\u001b[0m\u001b[1;31m:\u001b[0m invalid syntax\n"
          ]
        }
      ]
    },
    {
      "cell_type": "markdown",
      "metadata": {
        "id": "74wXveZCgW9p"
      },
      "source": [
        "if is a keyword, and thus it cannot be used as a variable name. This produces a syntax error."
      ]
    },
    {
      "cell_type": "markdown",
      "metadata": {
        "id": "3H0FH1ebi9mO"
      },
      "source": [
        "4.\tCheck if an input number is even or odd."
      ]
    },
    {
      "cell_type": "code",
      "metadata": {
        "id": "xjc2UsUOgKGo",
        "colab": {
          "base_uri": "https://localhost:8080/",
          "height": 70
        },
        "outputId": "648acc3e-c06e-467e-918d-c479a19cca1d"
      },
      "source": [
        "b = int(input(\"Enter a number\\n\"))\n",
        "if(b % 2 == 0):\n",
        "   print(b, \"is even\")\n",
        "else:    \n",
        "   print(b, \"is odd\")\n",
        "\n",
        "#checks if division by 2 gives remainder 0 or not"
      ],
      "execution_count": null,
      "outputs": [
        {
          "output_type": "stream",
          "text": [
            "Enter a number\n",
            "5\n",
            "5 is odd\n"
          ],
          "name": "stdout"
        }
      ]
    },
    {
      "cell_type": "markdown",
      "metadata": {
        "id": "mBu6KGhEjClD"
      },
      "source": [
        "5.\tCheck python help and print the calendar of August 2021."
      ]
    },
    {
      "cell_type": "code",
      "metadata": {
        "id": "oTra_QACgKGr",
        "colab": {
          "base_uri": "https://localhost:8080/",
          "height": 158
        },
        "outputId": "b9245040-5725-4757-9552-68c66aafe88d"
      },
      "source": [
        "import calendar\n",
        "c = calendar.TextCalendar(calendar.SUNDAY)\n",
        "str = c.formatmonth(2021, 8)\n",
        "print(str)\n",
        "\n",
        "#importing Calendar class, and indicating that the week starts from Sunday"
      ],
      "execution_count": null,
      "outputs": [
        {
          "output_type": "stream",
          "text": [
            "    August 2021\n",
            "Su Mo Tu We Th Fr Sa\n",
            " 1  2  3  4  5  6  7\n",
            " 8  9 10 11 12 13 14\n",
            "15 16 17 18 19 20 21\n",
            "22 23 24 25 26 27 28\n",
            "29 30 31\n",
            "\n"
          ],
          "name": "stdout"
        }
      ]
    },
    {
      "cell_type": "markdown",
      "metadata": {
        "id": "lpHWhcDajGU_"
      },
      "source": [
        "6.\tPrint the current date and time."
      ]
    },
    {
      "cell_type": "code",
      "metadata": {
        "id": "tHLt4xzVgKGt",
        "colab": {
          "base_uri": "https://localhost:8080/",
          "height": 70
        },
        "outputId": "7f022769-d6ce-4406-9c55-e5311188feda"
      },
      "source": [
        "from datetime import datetime\n",
        "import pytz\n",
        "\n",
        "timezone = pytz.timezone('Asia/Kolkata') #obtaining the timezone for India\n",
        "\n",
        "dt = datetime.now(timezone)#passing the required timezone into the function\n",
        "\n",
        "dt = dt.strftime(\"%d %B, %Y \\n  %H:%M:%S\") #formatting the string\n",
        "\n",
        "print(\"Date and time: \\n \", dt) "
      ],
      "execution_count": null,
      "outputs": [
        {
          "output_type": "stream",
          "text": [
            "Date and time: \n",
            "  12 September, 2020 \n",
            "  00:22:02\n"
          ],
          "name": "stdout"
        }
      ]
    },
    {
      "cell_type": "markdown",
      "metadata": {
        "id": "L5HAo0VYjMbG"
      },
      "source": [
        "7.\tCreate a list of marks (out of hundred) for 10 students and find the average marks.\n",
        "8.\tFind the difference between the minimum and the maximum class marks of the above list."
      ]
    },
    {
      "cell_type": "code",
      "metadata": {
        "id": "NZ7rLzzggKGv",
        "colab": {
          "base_uri": "https://localhost:8080/",
          "height": 228
        },
        "outputId": "a4cf7f86-6f0d-4150-b02f-24830ee1a0f8"
      },
      "source": [
        "list = []\n",
        "\n",
        "for i in range(0, 10):\n",
        "    e = int(input()) #by default, the values input are String\n",
        "    list.append(e)#appending to the end of the list\n",
        "\n",
        "    \n",
        "#obtained the marks from the user\n",
        "\n",
        "avg = 0\n",
        "\n",
        "for i in range(0, 10):\n",
        "    avg += list[i]\n",
        "    \n",
        "avg /= 10   \n",
        "#calculating the sum and average of the numbers\n",
        "\n",
        "print(\"Average of the numbers = \", avg)\n",
        "\n",
        "min = list[0]\n",
        "max = list[0]\n",
        "#assuming the first element as max and min\n",
        "\n",
        "for i in range(0, 10):\n",
        "    if list[i] < min:\n",
        "        min = list[i]\n",
        "    if list[i] > max:\n",
        "        max = list[i]\n",
        "#checks if any element < min and any element > max, and makes necessary changes\n",
        "        \n",
        "print(\"Difference between maximum and minimum = \", (max-min))      "
      ],
      "execution_count": null,
      "outputs": [
        {
          "output_type": "stream",
          "text": [
            "44\n",
            "5\n",
            "66\n",
            "6\n",
            "99\n",
            "87\n",
            "22\n",
            "76\n",
            "35\n",
            "88\n",
            "Average of the numbers =  52.8\n",
            "Difference between maximum and minimum =  94\n"
          ],
          "name": "stdout"
        }
      ]
    },
    {
      "cell_type": "markdown",
      "metadata": {
        "id": "ZGAVFFSYjSw_"
      },
      "source": [
        "9.\tCreate a list containing float, int, string as elements and find out the position of all the floating point numbers.\n",
        "10.\tPrint the length of this list\n",
        "11.\tFrom the above list delete all the strings one by one.\n",
        "12.\tChange the value of a particular item in the list. Print the index of the item.\n"
      ]
    },
    {
      "cell_type": "code",
      "metadata": {
        "id": "sXbgEOJpgKG0",
        "colab": {
          "base_uri": "https://localhost:8080/",
          "height": 298
        },
        "outputId": "a4ce6fa7-e55d-4675-ea85-60ce2d0fda15"
      },
      "source": [
        "import random\n",
        "\n",
        "l = [4, 5.6, 'zayn', 4.66, 'malik', 1993, 27.5]\n",
        "\n",
        "print(\"Position of all floating point numbers =\")\n",
        "    #assuming that there is atleast one since we are creating the list\n",
        "\n",
        "n = len(l)\n",
        "\n",
        "for i in range(0, n):\n",
        "    if(type(l[i]) == float):\n",
        "        print(i)\n",
        "#printing all required positions\n",
        " \n",
        "print(\"Length of this list = \", n)  \n",
        "#printing the length of the list\n",
        "\n",
        "print(\"\\nOriginal list:\", l)\n",
        "\n",
        "c = 0\n",
        "for i in range(0, n):\n",
        "    if(type(l[i]) == str):\n",
        "        c += 1\n",
        "\n",
        "n = n - c\n",
        "#changing the length of the list accordingly\n",
        "\n",
        "for i in range(0, n):\n",
        "    if(type(l[i]) == str):\n",
        "        l.remove(l[i])\n",
        "        \n",
        "\n",
        "#l.remove('zayn')\n",
        "#l.remove('malik')\n",
        "        \n",
        "print(\"\\nChanged list (after strings have been removed): \",l)\n",
        "\n",
        "#Once the strings have been removed, the list contains only integers and floats\n",
        "\n",
        "\n",
        "x = int(input(\"\\nInput a random number\\n\"))\n",
        "\n",
        "x = abs(x) % n\n",
        "#this will produce either 0, 1, 2, 3, or 4, and also deals with negative numbers\n",
        "\n",
        "print(\"\\nThe element to be modified is\", l[x], \"with index \", x)\n",
        "\n",
        "random.seed(x)#so that a different value is produced each time\n",
        "l[x] = random.choice([\"name\", 78, 665, 3.5, \"apple\"])\n",
        "#chooses a value from the list above depending on x, thus offering some amount of randomness\n",
        "\n",
        "print(\"\\nChanged list: \",l)\n",
        "\n",
        "\n"
      ],
      "execution_count": null,
      "outputs": [
        {
          "output_type": "stream",
          "text": [
            "Position of all floating point numbers =\n",
            "1\n",
            "3\n",
            "6\n",
            "Length of this list =  7\n",
            "\n",
            "Original list: [4, 5.6, 'zayn', 4.66, 'malik', 1993, 27.5]\n",
            "\n",
            "Changed list (after strings have been removed):  [4, 5.6, 4.66, 1993, 27.5]\n",
            "\n",
            "Input a random number\n",
            "-6\n",
            "\n",
            "The element to be modified is 5.6 with index  1\n",
            "\n",
            "Changed list:  [4, 78, 4.66, 1993, 27.5]\n"
          ],
          "name": "stdout"
        }
      ]
    },
    {
      "cell_type": "markdown",
      "metadata": {
        "id": "9V-JHRXNjWmZ"
      },
      "source": [
        "13.\tTake your full name as input a and count the number of character in it \n",
        "14.\tPrint the above in reverse order.  Like in this way  - Last name First name\n"
      ]
    },
    {
      "cell_type": "code",
      "metadata": {
        "id": "ms5IBRdOgKG4",
        "colab": {
          "base_uri": "https://localhost:8080/",
          "height": 87
        },
        "outputId": "f3c25bc5-4128-4403-9e0a-5f30fbc200cd"
      },
      "source": [
        "a = input(\"Enter full name\\n\")\n",
        "\n",
        "print(\"Number of characters = \", len(a) - 1) #subtracting 1 extra to decrement the space in between\n",
        "\n",
        "\n",
        "name = a.split()#to split the string using whitespace as delimiter\n",
        "\n",
        "print(\"Name in reverse: \", end = \"\") #to prevent going to the next line\n",
        "for i in reversed(range(len(name))):\n",
        "    print(name[i], end = \" \") #to add a space after the last name and at the end"
      ],
      "execution_count": null,
      "outputs": [
        {
          "output_type": "stream",
          "text": [
            "Enter full name\n",
            "Ankita Radhakrishnan\n",
            "Number of characters =  19\n",
            "Name in reverse: Radhakrishnan Ankita "
          ],
          "name": "stdout"
        }
      ]
    },
    {
      "cell_type": "markdown",
      "metadata": {
        "id": "KDcQ8f0zjeD-"
      },
      "source": [
        "15.\tCheck this code and say why error is raised\n",
        " t = (‘a’,’b’,’c’)\n",
        " t.append(‘g’)\n"
      ]
    },
    {
      "cell_type": "code",
      "metadata": {
        "id": "cNqx0CZFgKG6",
        "outputId": "c8ce2552-1cd5-4efc-a023-45a3e2d049cb"
      },
      "source": [
        " t = ('a','b','c')\n",
        " t.append('g')"
      ],
      "execution_count": null,
      "outputs": [
        {
          "output_type": "error",
          "ename": "AttributeError",
          "evalue": "'tuple' object has no attribute 'append'",
          "traceback": [
            "\u001b[1;31m---------------------------------------------------------------------------\u001b[0m",
            "\u001b[1;31mAttributeError\u001b[0m                            Traceback (most recent call last)",
            "\u001b[1;32m<ipython-input-73-7ecf7cb25320>\u001b[0m in \u001b[0;36m<module>\u001b[1;34m\u001b[0m\n\u001b[0;32m      1\u001b[0m \u001b[0mt\u001b[0m \u001b[1;33m=\u001b[0m \u001b[1;33m(\u001b[0m\u001b[1;34m'a'\u001b[0m\u001b[1;33m,\u001b[0m\u001b[1;34m'b'\u001b[0m\u001b[1;33m,\u001b[0m\u001b[1;34m'c'\u001b[0m\u001b[1;33m)\u001b[0m\u001b[1;33m\u001b[0m\u001b[1;33m\u001b[0m\u001b[0m\n\u001b[1;32m----> 2\u001b[1;33m \u001b[0mt\u001b[0m\u001b[1;33m.\u001b[0m\u001b[0mappend\u001b[0m\u001b[1;33m(\u001b[0m\u001b[1;34m'g'\u001b[0m\u001b[1;33m)\u001b[0m\u001b[1;33m\u001b[0m\u001b[1;33m\u001b[0m\u001b[0m\n\u001b[0m",
            "\u001b[1;31mAttributeError\u001b[0m: 'tuple' object has no attribute 'append'"
          ]
        }
      ]
    },
    {
      "cell_type": "markdown",
      "metadata": {
        "id": "1RohuFKwg8HW"
      },
      "source": [
        "A tuple is an immutable data structure. This means that once it has been defined, its value cannot be changed. Thus, it produces an error when we try to use append() method with it."
      ]
    },
    {
      "cell_type": "markdown",
      "metadata": {
        "id": "D5vgAmySjhzV"
      },
      "source": [
        "16.\tTake a few comma separated values. Store in a tuple. Find the length of the tuple."
      ]
    },
    {
      "cell_type": "code",
      "metadata": {
        "id": "jJI7vKFLgKG9",
        "colab": {
          "base_uri": "https://localhost:8080/",
          "height": 140
        },
        "outputId": "4b4ed959-ed30-4655-a569-90052227f86c"
      },
      "source": [
        "s = input(\"Input a comma-separated list of elements\\n\")\n",
        "#inputing a string which is a comma-separated list of values\n",
        "\n",
        "e = tuple(s.split(',')) #breaking the string into a list and then casting it into a tuple\n",
        "# as we have to take as a string and use commas for delimiters they will all be strings\n",
        "\n",
        "print(\"\\nThe resulting tuple:\") \n",
        "print(e)\n",
        "\n",
        "print(\"\\n The number of elements in the tuple:\", len(e))"
      ],
      "execution_count": null,
      "outputs": [
        {
          "output_type": "stream",
          "text": [
            "Input a comma-separated list of elements\n",
            "dwifh, 938r39, iejf, 000, -1, fejfieq, fifjowq\n",
            "\n",
            "The resulting tuple:\n",
            "('dwifh', ' 938r39', ' iejf', ' 000', ' -1', ' fejfieq', ' fifjowq')\n",
            "\n",
            " The number of elements in the tuple: 7\n"
          ],
          "name": "stdout"
        }
      ]
    },
    {
      "cell_type": "markdown",
      "metadata": {
        "id": "y3X6uOZEjlBs"
      },
      "source": [
        "17.\tCreate a dictionary of numbers 1 to 10 as keys with their squares as their values.\n",
        "18.\tCheck if a given key already exists in the dictionary you just created."
      ]
    },
    {
      "cell_type": "code",
      "metadata": {
        "id": "gUJLn27dgKG_",
        "colab": {
          "base_uri": "https://localhost:8080/",
          "height": 87
        },
        "outputId": "4d7f4fd2-d738-407c-bc17-cb612a1f23ef"
      },
      "source": [
        "Squares = {}\n",
        "\n",
        "for i in range(1, 11):\n",
        "    Squares[i] = i * i\n",
        "#as the valye for each key is the square of the key\n",
        "    \n",
        "print(Squares)\n",
        "#printing the dictionary\n",
        "\n",
        "a = int(input(\"Input the key to check if present\\n\")) #assuming integer input\n",
        "\n",
        "flag = 0\n",
        "\n",
        "for i in range(1, 11): #0 to n-1 values \n",
        "    if(a == i):\n",
        "        flag = 1\n",
        "        print(a, \"is present\")\n",
        "        break\n",
        "#checks for a match throughout the dictionary\n",
        "        \n",
        "if(flag == 0):\n",
        "    print(a, \"is not present in dictionary\")\n",
        "#if no match is found"
      ],
      "execution_count": null,
      "outputs": [
        {
          "output_type": "stream",
          "text": [
            "{1: 1, 2: 4, 3: 9, 4: 16, 5: 25, 6: 36, 7: 49, 8: 64, 9: 81, 10: 100}\n",
            "Input the key to check if present\n",
            "7\n",
            "7 is present\n"
          ],
          "name": "stdout"
        }
      ]
    },
    {
      "cell_type": "markdown",
      "metadata": {
        "id": "x0xP1WLwjohW"
      },
      "source": [
        "19.\tCreate two sets. Find union, intersection and difference of the sets. "
      ]
    },
    {
      "cell_type": "code",
      "metadata": {
        "id": "1ClcZgIBgKHC",
        "colab": {
          "base_uri": "https://localhost:8080/",
          "height": 246
        },
        "outputId": "07e3a002-cc93-400d-ae42-e9cbee74f58d"
      },
      "source": [
        "A = set([1, 2, 5, 4, 3])\n",
        "B = set([3, 4, 6, 1])\n",
        "#creating two sets\n",
        "\n",
        "print(\"The actual sets: \\n\")\n",
        "print(A)\n",
        "print(B)\n",
        "#printing the original sets\n",
        "\n",
        "\n",
        "print(\"Union of the two sets = \", A | B)\n",
        "print(\"\\nIntersection of the two sets = \", A & B)\n",
        "print(\"\\nDifference of the two sets (A - B) = \", A - B)\n",
        "print(\"\\nDifference of the two sets (B - A) = \", B - A)\n",
        "print(\"\\nSymmetric difference of the two sets (A ∆ B) = \", ((A | B) - (A & B)))\n",
        "\n",
        "#printing union, intersection, differences and symmetric difference of the two sets"
      ],
      "execution_count": null,
      "outputs": [
        {
          "output_type": "stream",
          "text": [
            "The actual sets: \n",
            "\n",
            "{1, 2, 3, 4, 5}\n",
            "{1, 3, 4, 6}\n",
            "Union of the two sets =  {1, 2, 3, 4, 5, 6}\n",
            "\n",
            "Intersection of the two sets =  {1, 3, 4}\n",
            "\n",
            "Difference of the two sets (A - B) =  {2, 5}\n",
            "\n",
            "Difference of the two sets (B - A) =  {6}\n",
            "\n",
            "Symmetric difference of the two sets (A ∆ B) =  {2, 5, 6}\n"
          ],
          "name": "stdout"
        }
      ]
    },
    {
      "cell_type": "markdown",
      "metadata": {
        "id": "jo2YIAuYjwXb"
      },
      "source": [
        "20.\tFind if a specific element belongs to a set. Add that element 2 more times to the set. "
      ]
    },
    {
      "cell_type": "code",
      "metadata": {
        "id": "kS_uM5UrgKHF",
        "colab": {
          "base_uri": "https://localhost:8080/",
          "height": 140
        },
        "outputId": "92b898bb-22dc-4809-a5a4-fd08fe4ef252"
      },
      "source": [
        "e = input(\"\\nInput the element to check\\n\")\n",
        "#inputing the element to search for in a given set\n",
        "\n",
        "A = {\"2\", \"cshu3\", \"csjbfje1\", \"6\", \"4\", \"7\", \"8wbjfgwgi\", \"00009\"}\n",
        "#creating a set\n",
        "\n",
        "if e in A:\n",
        "    print(e, \"is present in the set\\n\")\n",
        "else:\n",
        "    print(e, \"is not present in the set\\n\")\n",
        " #goes through the set and then searches for a match   \n",
        "    \n",
        "A.add(e)\n",
        "A.add(e)\n",
        "#the second add() is redundant as sets cannot contain duplicate elements, and thus the element will be added if not present, else nothing occurs\n",
        "\n",
        "print(\"The final modified set: \\n\", A)"
      ],
      "execution_count": null,
      "outputs": [
        {
          "output_type": "stream",
          "text": [
            "\n",
            "Input the element to check\n",
            "yfyhj\n",
            "yfyhj is not present in the set\n",
            "\n",
            "The final modified set: \n",
            " {'7', '2', '4', '8wbjfgwgi', 'csjbfje1', '00009', 'cshu3', '6', 'yfyhj'}\n"
          ],
          "name": "stdout"
        }
      ]
    }
  ]
}