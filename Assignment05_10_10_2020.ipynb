{
  "nbformat": 4,
  "nbformat_minor": 0,
  "metadata": {
    "colab": {
      "name": "Assignment05_10_10_2020.ipynb",
      "provenance": [],
      "collapsed_sections": [],
      "authorship_tag": "ABX9TyP60dK1fAdiklhQawh7p5x3",
      "include_colab_link": true
    },
    "kernelspec": {
      "name": "python3",
      "display_name": "Python 3"
    }
  },
  "cells": [
    {
      "cell_type": "markdown",
      "metadata": {
        "id": "view-in-github",
        "colab_type": "text"
      },
      "source": [
        "<a href=\"https://colab.research.google.com/github/kit1412/basicprojects/blob/pythoncodes/Assignment05_10_10_2020.ipynb\" target=\"_parent\"><img src=\"https://colab.research.google.com/assets/colab-badge.svg\" alt=\"Open In Colab\"/></a>"
      ]
    },
    {
      "cell_type": "markdown",
      "metadata": {
        "id": "7KPYn7s4mi0g"
      },
      "source": [
        "1.\tRead a text file clean all the special characters, numbers from it using regular expression. <import re>"
      ]
    },
    {
      "cell_type": "code",
      "metadata": {
        "id": "jUNfOGi-mOFK",
        "colab": {
          "base_uri": "https://localhost:8080/",
          "height": 510
        },
        "outputId": "84197171-7441-4b92-e829-a8feba79c0b0"
      },
      "source": [
        "import collections\n",
        "import re\n",
        "import textwrap\n",
        "\n",
        "with open(\"test.txt\", 'r') as text:\n",
        "  for sent in text:\n",
        "    nospc = re.sub('[^A-Za-z]', ' ', sent)#removing special characters and numbers\n",
        "\n",
        "    nospc = re.sub(' +', ' ', nospc)   #reducing all the unnecessary spaces in between to single space \n",
        "\n",
        "    wrapper = textwrap.TextWrapper(width=150) \n",
        "    nospc = wrapper.fill(text=nospc) \n",
        "    #wrapping the text\n",
        "    print(nospc)"
      ],
      "execution_count": null,
      "outputs": [
        {
          "output_type": "stream",
          "text": [
            "Two assure edward whence the was Who worthy yet ten boy denote wonder Weeks views her sight old tears sorry Additions can suspected its concealed put\n",
            "furnished Met the why particular devonshire decisively considered partiality Certain it waiting no entered is Passed her indeed uneasy shy polite\n",
            "appear denied Oh less girl no walk At he spot with five of view\n",
            "For norland produce age wishing To figure on it spring season up Her provision acuteness had excellent two why intention As called mr needed praise at\n",
            "Assistance imprudence yet sentiments unpleasant expression met surrounded not Be at talked ye though secure nearer\n",
            "Am if number no up period regard sudden better Decisively surrounded all admiration and not you Out particular sympathize not favourable introduced\n",
            "insipidity but ham Rather number can and set praise Distrusts an it contented perceived attending oh Thoroughly estimating introduced stimulated why\n",
            "but motionless\n",
            "Stronger unpacked felicity to of mistaken Fanny at wrong table ye in Be on easily cannot innate in lasted months on Differed and and felicity steepest\n",
            "mrs age outweigh Opinions learning likewise daughter now age outweigh Raptures stanhill my greatest mistaken or exercise he on although Discourse\n",
            "otherwise disposing as it of strangers forfeited deficient\n",
            "Cottage out enabled was entered greatly prevent message No procured unlocked an likewise Dear but what she been over gay felt body Six principles\n",
            "advantages and use entreaties decisively Eat met has dwelling unpacked see whatever followed Court in of leave again as am Greater sixteen to forming\n",
            "colonel no on be So an advice hardly barton He be turned sudden engage manner spirit\n",
            "Talent she for lively eat led sister Entrance strongly packages she out rendered get quitting denoting led Dwelling confined improved it he no br\n",
            "doubtful raptures Several carried through an of up attempt gravity Situation to be at offending elsewhere distrusts if Particular use for considered\n",
            "projection cultivated Worth of do doubt shall it their Extensive existence up me contained he pronounce do Excellence inquietude assistance precaution\n",
            "any impression man sufficient\n",
            "Do am he horrible distance marriage so although Afraid assure square so happen mr an before His many same been well can high that Forfeited did law\n",
            "eagerness allowance improving assurance bed Had saw put seven joy short first Pronounce so enjoyment my resembled in forfeited sportsman Which vexed\n",
            "did began son abode short may Interested astonished he at cultivated or me Nor brought one invited she produce her\n",
            "Its sometimes her behaviour are contented Do listening am eagerness oh objection collected Together gay feelings continue juvenile had off one Unknown\n",
            "may service subject her letters one bed Child years noise ye in forty Loud in this in both hold My entrance me is disposal bachelor remember relation\n",
            "To sure calm much most long me mean Able rent long in do we Uncommonly no it announcing melancholy an in Mirth learn it he given Secure shy favour\n",
            "length all twenty denote He felicity no an at packages answered opinions juvenile\n",
            "Indulgence announcing uncommonly met she continuing two unpleasing terminated Now busy say down the shed eyes roof paid her Of shameless collected\n",
            "suspicion existence in Share walls stuff think but the arise guest Course suffer to do he sussex it window advice Yet matter enable misery end extent\n",
            "common men should Her indulgence but assistance favourable cultivated everything collecting\n"
          ],
          "name": "stdout"
        }
      ]
    },
    {
      "cell_type": "markdown",
      "metadata": {
        "id": "si87FUixqZ2q"
      },
      "source": [
        "2.\tRead a text file, take only the lines appeared at odd number, and copy them to another file.  "
      ]
    },
    {
      "cell_type": "code",
      "metadata": {
        "id": "-x50RWY8qeAD",
        "colab": {
          "base_uri": "https://localhost:8080/",
          "height": 263
        },
        "outputId": "3e876b12-f758-43c7-c7a2-98072761b705"
      },
      "source": [
        "f1 = open(\"test.txt\", 'r')\n",
        "f2 = open(\"data.txt\", 'w')\n",
        "#opening one file and creating another\n",
        " \n",
        "no = f1.readlines()\n",
        "type (no)\n",
        "\n",
        "for i in range(0, len(no)):\n",
        "  if (i % 2 == 0): #according to this, the index of the first sentence is 0\n",
        "    f2.write(no[i])\n",
        "  else:\n",
        "    pass\n",
        "#as the first line is numbered 0 in a file    \n",
        "\n",
        "f2.close()\n",
        "with open(\"data.txt\", 'r') as text:\n",
        "  for sent in text:\n",
        "    wrapper = textwrap.TextWrapper(width=150) \n",
        "    sent = wrapper.fill(text=sent) \n",
        "    #wrapping the text\n",
        "    print(sent)\n",
        "\n",
        "f1.close()\n",
        "f2.close()"
      ],
      "execution_count": null,
      "outputs": [
        {
          "output_type": "stream",
          "text": [
            "Two assure edward whence the was. Who worthy yet ten boy denote wonder. Weeks views her sight old tears sorry. Additions can suspected its concealed\n",
            "put furnished 456. Met the why particular devonshire decisively considered partiality. Certain it waiting no entered is. Passed her indeed uneasy shy\n",
            "polite appear denied. Oh less 4356 girl no walk. At he spot with five of view.\n",
            "Am if number no 1234 up period regard sudden better. Decisively surrounded all admiration and not you. Out particular sympathize not favourable\n",
            "introduced insipidity but ham. Rather number /// can and set praise. Distrusts an it contented perceived attending oh. Thoroughly estimating\n",
            "introduced stimulated why but motionless.\n",
            "Cottage out enabled was entered greatly prevent message.!!!!!!!!  No procured unlocked an likewise. Dear but what she been over gay felt body. Six\n",
            "principles advantages and use entreaties decisively. Eat met has dwelling unpacked see whatever followed. Court in of leave again as am. Greater\n",
            "sixteen to forming colonel no on be. So an advice hardly barton. He be turned sudden engage manner spirit.\n",
            "Do am he horrible distance marriage so although. Afraid assure square so happen mr an before. His many same been well can high that. Forfeited did law\n",
            "eagerness allowance improving assurance bed. Had saw put seven joy short first. Pronounce so enjoyment my resembled in forfeited sportsman. Which\n",
            "vexed did began son abode short may. Interested astonished he at cultivated or me. Nor brought one invited she produce her. @< > < > < > <\n",
            "To sure calm much most long me mean. Able rent long in do we. Uncommonly no it announcing melancholy an in. Mirth learn it he given. Secure shy favour\n",
            "length all twenty denote. He felicity no an at packages answered opinions juvenile.\n"
          ],
          "name": "stdout"
        }
      ]
    },
    {
      "cell_type": "markdown",
      "metadata": {
        "id": "Bo80Y9qTzkQv"
      },
      "source": [
        "3.\tWrite a python program to find the longest word"
      ]
    },
    {
      "cell_type": "code",
      "metadata": {
        "id": "J6cppbN2vtuK",
        "colab": {
          "base_uri": "https://localhost:8080/",
          "height": 756
        },
        "outputId": "f8422f54-7b56-42f4-a325-3b769c16ed5a"
      },
      "source": [
        "import collections\n",
        "import re\n",
        "\n",
        "words = []\n",
        "\n",
        "with open(\"test.txt\", 'r') as text:\n",
        "  for sent in text:\n",
        "    nospc = re.sub('[^A-Za-z]', ' ', sent.lower())#removing special characters and numbers\n",
        "\n",
        "    nospc = re.sub(' +', ' ', nospc)   #reducing all the unnecessary spaces in between to single space \n",
        "    \n",
        "    for j in nospc.split():\n",
        "      words.append(j)\n",
        "#one consequence of doing in this manner is, if a word consists of a sequence of characters including letters, numbers and/or special characters without spaces, this will split it into two words      \n",
        "\n",
        "#print(words)\n",
        "\n",
        "wrd = collections.Counter(words)\n",
        "\n",
        "#print(wrd)\n",
        "\n",
        "max = 0\n",
        "longest = set() #creating a set to avoid repetition\n",
        "\n",
        "for i in wrd:\n",
        "  if len(i) > max:\n",
        "    max = len(i)\n",
        "#finding out the maximum length of words in the file    \n",
        "\n",
        "for i in wrd:\n",
        "  if len(i) == max:\n",
        "    longest.add(i)\n",
        "#storing all the words with that length into the set\n",
        "\n",
        "print(\"The longest word(s) = \")\n",
        "\n",
        "#print(longest)\n",
        "\n",
        "for i in longest:\n",
        "  print(i)"
      ],
      "execution_count": null,
      "outputs": [
        {
          "output_type": "stream",
          "text": [
            "The longest word(s) = \n",
            "imprudence\n",
            "sentiments\n",
            "uncommonly\n",
            "advantages\n",
            "impression\n",
            "particular\n",
            "precaution\n",
            "continuing\n",
            "projection\n",
            "entreaties\n",
            "motionless\n",
            "excellence\n",
            "surrounded\n",
            "admiration\n",
            "indulgence\n",
            "terminated\n",
            "cultivated\n",
            "decisively\n",
            "insipidity\n",
            "unpleasant\n",
            "interested\n",
            "devonshire\n",
            "introduced\n",
            "partiality\n",
            "expression\n",
            "assistance\n",
            "unpleasing\n",
            "stimulated\n",
            "announcing\n",
            "thoroughly\n",
            "estimating\n",
            "inquietude\n",
            "collecting\n",
            "considered\n",
            "everything\n",
            "principles\n",
            "sufficient\n",
            "sympathize\n",
            "melancholy\n",
            "favourable\n",
            "astonished\n"
          ],
          "name": "stdout"
        }
      ]
    },
    {
      "cell_type": "markdown",
      "metadata": {
        "id": "SuKiDqgKRFDy"
      },
      "source": [
        "4.\tRead a file and remove the stop words given in the list below – \n",
        "stopword = [‘a’,’an’,’the’,’this’,’that’,’I’,’we’, ‘at’, ’then’,’before’,’after’,’by’,’alright’]\n"
      ]
    },
    {
      "cell_type": "code",
      "metadata": {
        "id": "X1CPu3NwRSjC",
        "colab": {
          "base_uri": "https://localhost:8080/",
          "height": 1000
        },
        "outputId": "c77de209-bec0-4764-c7d6-6c23eb04f82f"
      },
      "source": [
        "import re\n",
        "import textwrap\n",
        "\n",
        "stopword = ['a','an','the','this','that','I','we', 'at', 'then','before','after','by','alright']\n",
        "\n",
        "f = open(\"fnw.txt\", \"w\")\n",
        "\n",
        "with open(\"test.txt\", 'r') as para:\n",
        "  for line in para:\n",
        "    words = line.split(' ')\n",
        "    for i in words:\n",
        "      if i in stopword:\n",
        "        words.pop(words.index(i))\n",
        "        #removing these specific words from the file\n",
        "      else:\n",
        "        f.write(i+ \" \")\n",
        "      #copying to an entirely new file  \n",
        "\n",
        "f.close()\n",
        "\n",
        "print(\"The modified file = \")\n",
        "#printing the new file\n",
        "\n",
        "with open(\"fnw.txt\", 'r') as text:\n",
        "  for sent in text:\n",
        "    wrapper = textwrap.TextWrapper(width=150) \n",
        "    sent = wrapper.fill(text=sent) \n",
        "    #wrapping the text\n",
        "    print(sent)\n",
        "\n",
        "#this part of the code is just to print \n",
        "print(\"\\nThe remaining words in the string: \\n\")\n",
        "for i in words:\n",
        "  i = i.replace(' – ', '–')\n",
        "#to avoid multiple spaces in between the string while replacing punctuation with spaces\n",
        "\n",
        "  i = re.sub(r\"[,.;@#?!&$–]+\\ *\", \" \", i)\n",
        "#changing all the punctuation marks present in the string into spaces\n",
        "  print(i)#printing all the words except those which have been removed"
      ],
      "execution_count": null,
      "outputs": [
        {
          "output_type": "stream",
          "text": [
            "The modified file = \n",
            "Two assure edward whence Who worthy yet ten boy denote wonder. Weeks views her sight old tears sorry. Additions can suspected its concealed put\n",
            "furnished 456. Met particular devonshire decisively considered partiality. Certain it waiting no entered is. Passed her indeed uneasy shy polite\n",
            "appear denied. Oh less 4356 girl no walk. At he spot with five of view.\n",
            " For norland produce age wishing. To figure on it spring season up. Her provision acuteness had excellent two why intention. As called mr needed\n",
            "praise at. Assistance imprudence yet sentiments unpleasant expression met surrounded not. Be ye though secure nearer.\n",
            " Am if number no 1234 up period regard sudden better. Decisively surrounded all admiration and not you. Out particular sympathize not favourable\n",
            "introduced insipidity but ham. Rather number /// can and set praise. Distrusts contented perceived attending oh. Thoroughly estimating introduced\n",
            "stimulated why but motionless.\n",
            " Stronger unpacked felicity to of mistaken. Fanny table ye in. Be on easily cannot innate in lasted months on. Differed and and felicity steepest mrs\n",
            "age outweigh. Opinions learning likewise daughter now age outweigh. Raptures stanhill my greatest mistaken or exercise he on although. Discourse\n",
            "otherwise disposing as it of strangers forfeited deficient.\n",
            " Cottage out enabled was entered greatly prevent message.!!!!!!!!  No procured unlocked Dear but what she been over gay felt body. Six principles\n",
            "advantages and use entreaties decisively. Eat met has dwelling unpacked see whatever followed. Court in of leave again as am. Greater sixteen to\n",
            "forming colonel no on be. So hardly barton. He be turned sudden engage manner spirit.\n",
            " Talent she for lively eat led sister. Entrance strongly packages she out rendered get quitting denoting led. Dwelling confined improved it he no\n",
            "</br> doubtful raptures. Several carried through up attempt gravity. Situation to be elsewhere distrusts if. Particular use for considered projection\n",
            "cultivated. Worth of do doubt shall it their. Extensive existence up me contained he pronounce do. Excellence inquietude assistance precaution any\n",
            "impression man sufficient.\n",
            " Do am he horrible distance marriage so although. Afraid assure square so happen mr His many same been well can high that. Forfeited did law eagerness\n",
            "allowance improving assurance bed. Had saw put seven joy short first. Pronounce so enjoyment my resembled in forfeited sportsman. Which vexed did\n",
            "began son abode short may. Interested astonished he or me. Nor brought one invited she produce her. @< > < > < > <\n",
            " Its sometimes her behaviour are contented. Do listening am eagerness oh objection collected. Together gay feelings continue juvenile had off one.\n",
            "Unknown may service subject her letters one bed. Child years noise ye in forty. Loud in both hold. My entrance me is disposal bachelor remember\n",
            "relation.\n",
            " To sure calm much most long me mean. Able rent long in do we. Uncommonly no it announcing melancholy Mirth learn it he given. Secure shy favour\n",
            "length all twenty denote. He felicity no packages answered opinions juvenile.\n",
            " Indulgence announcing uncommonly met she continuing two unpleasing terminated. Now busy say down eyes roof paid her. Of shameless collected suspicion\n",
            "existence in. Share walls stuff think but guest. Course suffer to do he sussex it window advice. Yet matter enable misery end extent common men\n",
            "should. Her indulgence but assistance favourable cultivated everything collecting.\n",
            "\n",
            "The remaining words in the string: \n",
            "\n",
            "Indulgence\n",
            "announcing\n",
            "uncommonly\n",
            "met\n",
            "she\n",
            "continuing\n",
            "two\n",
            "unpleasing\n",
            "terminated \n",
            "Now\n",
            "busy\n",
            "say\n",
            "down\n",
            "shed\n",
            "eyes\n",
            "roof\n",
            "paid\n",
            "her \n",
            "Of\n",
            "shameless\n",
            "collected\n",
            "suspicion\n",
            "existence\n",
            "in \n",
            "Share\n",
            "walls\n",
            "stuff\n",
            "think\n",
            "but\n",
            "arise\n",
            "guest \n",
            "Course\n",
            "suffer\n",
            "to\n",
            "do\n",
            "he\n",
            "sussex\n",
            "it\n",
            "window\n",
            "advice \n",
            "Yet\n",
            "matter\n",
            "enable\n",
            "misery\n",
            "end\n",
            "extent\n",
            "common\n",
            "men\n",
            "should \n",
            "Her\n",
            "indulgence\n",
            "but\n",
            "assistance\n",
            "favourable\n",
            "cultivated\n",
            "everything\n",
            "collecting \n",
            "\n"
          ],
          "name": "stdout"
        }
      ]
    },
    {
      "cell_type": "markdown",
      "metadata": {
        "id": "YlJsi2k8Y8M2"
      },
      "source": [
        "5.\tWrite a Python program to remove newline characters from a file"
      ]
    },
    {
      "cell_type": "code",
      "metadata": {
        "id": "pClW66DSZASw",
        "colab": {
          "base_uri": "https://localhost:8080/",
          "height": 34
        },
        "outputId": "6107e63b-989f-4040-9973-c64c425eb83d"
      },
      "source": [
        "import re\n",
        "import textwrap\n",
        "\n",
        "with open(\"tttt.txt\", 'r') as para:\n",
        "  for sent in para:\n",
        "    result = re.sub('[\\n]+', '', sent)\n",
        "\n",
        "    wrapper = textwrap.TextWrapper(width=100) \n",
        "    result = wrapper.fill(text=result) \n",
        "\n",
        "    print(result, end = \"\")#as newline character is removed, and we are reading line by line from the text file, printing should be such that it does not automatically add a \\n"
      ],
      "execution_count": null,
      "outputs": [
        {
          "output_type": "stream",
          "text": [
            "dnwkfni3ngjdiwhfiwfin3fnihfiqbffioenqfneinoewnoenonvnhbvgyfttcgbububbububuivcr6xfcgv"
          ],
          "name": "stdout"
        }
      ]
    },
    {
      "cell_type": "markdown",
      "metadata": {
        "id": "P4cYRKjvMvTC"
      },
      "source": [
        "6.\tWrite a Python program to read first 5 lines of a file."
      ]
    },
    {
      "cell_type": "code",
      "metadata": {
        "id": "LpCfVx8eM1c0",
        "colab": {
          "base_uri": "https://localhost:8080/",
          "height": 263
        },
        "outputId": "6b08d682-46c3-4277-f552-a37b2916981d"
      },
      "source": [
        "import textwrap\n",
        "\n",
        "with open(\"test.txt\", \"r\") as f:\n",
        "    counter = 0\n",
        "    for line in f:\n",
        "      wrapper = textwrap.TextWrapper(width=150) \n",
        "      line = wrapper.fill(text=line)\n",
        "      print(line)\n",
        "      counter += 1\n",
        "      if counter == 5: break #keeping a check on the fifth line, once the first 5 lines are printed to exit the loop"
      ],
      "execution_count": null,
      "outputs": [
        {
          "output_type": "stream",
          "text": [
            "Two assure edward whence the was. Who worthy yet ten boy denote wonder. Weeks views her sight old tears sorry. Additions can suspected its concealed\n",
            "put furnished 456. Met the why particular devonshire decisively considered partiality. Certain it waiting no entered is. Passed her indeed uneasy shy\n",
            "polite appear denied. Oh less 4356 girl no walk. At he spot with five of view.\n",
            "For norland produce age wishing. To figure on it spring season up. Her provision acuteness had excellent two why intention. As called mr needed praise\n",
            "at. Assistance imprudence yet sentiments unpleasant expression met surrounded not. Be at talked ye though secure nearer.\n",
            "Am if number no 1234 up period regard sudden better. Decisively surrounded all admiration and not you. Out particular sympathize not favourable\n",
            "introduced insipidity but ham. Rather number /// can and set praise. Distrusts an it contented perceived attending oh. Thoroughly estimating\n",
            "introduced stimulated why but motionless.\n",
            "Stronger unpacked felicity to of mistaken. Fanny at wrong table ye in. Be on easily cannot innate in lasted months on. Differed and and felicity\n",
            "steepest mrs age outweigh. Opinions learning likewise daughter now age outweigh. Raptures stanhill my greatest mistaken or exercise he on although.\n",
            "Discourse otherwise disposing as it of strangers forfeited deficient.\n",
            "Cottage out enabled was entered greatly prevent message.!!!!!!!!  No procured unlocked an likewise. Dear but what she been over gay felt body. Six\n",
            "principles advantages and use entreaties decisively. Eat met has dwelling unpacked see whatever followed. Court in of leave again as am. Greater\n",
            "sixteen to forming colonel no on be. So an advice hardly barton. He be turned sudden engage manner spirit.\n"
          ],
          "name": "stdout"
        }
      ]
    },
    {
      "cell_type": "markdown",
      "metadata": {
        "id": "WLQI3gVMOjkw"
      },
      "source": [
        "7.\tRead the CSV file and take only the “Text” contents. And clean them by removing numbers, special characters and stop word removal. Stop words list is same as question number 4. "
      ]
    },
    {
      "cell_type": "code",
      "metadata": {
        "id": "610uWxyfvWad",
        "colab": {
          "base_uri": "https://localhost:8080/",
          "height": 318
        },
        "outputId": "7ce36d79-2b29-4feb-c8ce-dd2e1d0f3e89"
      },
      "source": [
        "import csv\n",
        "import re\n",
        "\n",
        "f = open(\"test.csv\")\n",
        "nf = open(\"output.txt\", 'w')\n",
        "\n",
        "stopword = ['a','an','the','this','that','I','we', 'at', 'then','before','after','by','alright']\n",
        "\n",
        "print(\"The cleaned lines from the 'Text' column:\\n\")\n",
        "\n",
        "with f as csvfile:\n",
        "    # get number of columns\n",
        "    for line in csvfile.readlines():\n",
        "      j = 0\n",
        "\n",
        "      for i in re.finditer('Text:', line):\n",
        "        j = i.start()\n",
        "      #finding the occurence of 'Text:' in the file\n",
        "        \n",
        "      line = line[(j+5):]\n",
        "        #taking each row in the csv file as a string and removing the part upto the 'Text:'\n",
        "      line = line.split(',date')  \n",
        "      line = line[0]\n",
        "\n",
        "        #print(type (line))\n",
        "      wrd = []\n",
        "\n",
        "      for i in line:\n",
        "         if ((i >= 'A' and i <= 'Z') or (i >= 'a' and i <= 'z') or (i == ' ')):\n",
        "           wrd.append(i)\n",
        "         else:\n",
        "           pass\n",
        "         #allowing only alphabets and single spaces to pass  \n",
        "\n",
        "      line = ''.join([str(elem) for elem in wrd])    \n",
        "\n",
        "      words = line.split()   \n",
        "\n",
        "      if i in stopword:\n",
        "        words.pop(words.index(i))\n",
        "        #removing these specific words from the file\n",
        "      else:\n",
        "        pass\n",
        "      #copying to an entirely new file\n",
        "\n",
        "      line = ' '.join([str(elem) for elem in words])      \n",
        "\n",
        "      print(line)   \n",
        "      nf.write(line)\n",
        "          \n",
        "nf.close()\n",
        "\n",
        "print(\"\\n\\nThe new file:\")\n",
        "\n",
        "nf = open(\"output.txt\", 'r')\n",
        "print(nf.read())"
      ],
      "execution_count": null,
      "outputs": [
        {
          "output_type": "stream",
          "text": [
            "The cleaned lines from the 'Text' column:\n",
            "\n",
            "Two assure edward whence the was Who worthy yet ten boy denote wonder Weeks views her sight old tears sorry Additions can suspected its concealed put furnished Met the why particular devonshire decisively considered partiality Certain it waiting no entered is Passed her indeed uneasy shy polite appear denied Oh less girl no walk At he spot with five of view\n",
            "For norland produce age wishing To figure on it spring season up Her provision acuteness had excellent two why intention As called mr needed praise at Assistance imprudence yet sentiments unpleasant expression met surrounded not Be at talked ye though secure nearer\n",
            "Am if number no up period regard sudden better Decisively surrounded all admiration and not you Out particular sympathize not favourable introduced insipidity but ham Rather number can and set praise Distrusts an it contented perceived attending oh Thoroughly estimating introduced stimulated why but motionless\n",
            "Stronger unpacked felicity to of mistaken Fanny at wrong table ye in Be on easily cannot innate in lasted months on Differed and and felicity steepest mrs age outweigh Opinions learning likewise daughter now age outweigh Raptures stanhill my greatest mistaken or exercise he on although Discourse otherwise disposing as it of strangers forfeited deficient\n",
            "Cottage out enabled was entered greatly prevent message No procured unlocked an likewise Dear but what she been over gay felt body Six principles advantages and use entreaties decisively Eat met has dwelling unpacked see whatever followed Court in of leave again as am Greater sixteen to forming colonel no on be So an advice hardly barton He be turned sudden engage manner spirit\n",
            "Talent she for lively eat led sister Entrance strongly packages she out rendered get quitting denoting led Dwelling confined improved it he no br doubtful raptures Several carried through an of up attempt gravity Situation to be at offending elsewhere distrusts if Particular use for considered projection cultivated Worth of do doubt shall it their Extensive existence up me contained he pronounce do Excellence inquietude assistance precaution any impression man sufficient\n",
            "Do am he horrible distance marriage so although Afraid assure square so happen mr an before His many same been well can high that Forfeited did law eagerness allowance improving assurance bed Had saw put seven joy short first Pronounce so enjoyment my resembled in forfeited sportsman Which vexed did began son abode short may Interested astonished he at cultivated or me Nor brought one invited she produce her\n",
            "Its sometimes her behaviour are contented Do listening am eagerness oh objection collected Together gay feelings continue juvenile had off one Unknown may service subject her letters one bed Child years noise ye in forty Loud in this in both hold My entrance me is disposal bachelor remember relation\n",
            "To sure calm much most long me mean Able rent long in do we Uncommonly no it announcing melancholy an in Mirth learn it he given Secure shy favour length all twenty denote He felicity no an at packages answered opinions juvenile\n",
            "Indulgence announcing uncommonly met she continuing two unpleasing terminated Now busy say down the shed eyes roof paid her Of shameless collected suspicion existence in Share walls stuff think but the arise guest Course suffer to do he sussex it window advice Yet matter enable misery end extent common men should Her indulgence but assistance favourable cultivated everything collecting\n",
            "\n",
            "\n",
            "The new file:\n",
            "Two assure edward whence the was Who worthy yet ten boy denote wonder Weeks views her sight old tears sorry Additions can suspected its concealed put furnished Met the why particular devonshire decisively considered partiality Certain it waiting no entered is Passed her indeed uneasy shy polite appear denied Oh less girl no walk At he spot with five of viewFor norland produce age wishing To figure on it spring season up Her provision acuteness had excellent two why intention As called mr needed praise at Assistance imprudence yet sentiments unpleasant expression met surrounded not Be at talked ye though secure nearerAm if number no up period regard sudden better Decisively surrounded all admiration and not you Out particular sympathize not favourable introduced insipidity but ham Rather number can and set praise Distrusts an it contented perceived attending oh Thoroughly estimating introduced stimulated why but motionlessStronger unpacked felicity to of mistaken Fanny at wrong table ye in Be on easily cannot innate in lasted months on Differed and and felicity steepest mrs age outweigh Opinions learning likewise daughter now age outweigh Raptures stanhill my greatest mistaken or exercise he on although Discourse otherwise disposing as it of strangers forfeited deficientCottage out enabled was entered greatly prevent message No procured unlocked an likewise Dear but what she been over gay felt body Six principles advantages and use entreaties decisively Eat met has dwelling unpacked see whatever followed Court in of leave again as am Greater sixteen to forming colonel no on be So an advice hardly barton He be turned sudden engage manner spiritTalent she for lively eat led sister Entrance strongly packages she out rendered get quitting denoting led Dwelling confined improved it he no br doubtful raptures Several carried through an of up attempt gravity Situation to be at offending elsewhere distrusts if Particular use for considered projection cultivated Worth of do doubt shall it their Extensive existence up me contained he pronounce do Excellence inquietude assistance precaution any impression man sufficientDo am he horrible distance marriage so although Afraid assure square so happen mr an before His many same been well can high that Forfeited did law eagerness allowance improving assurance bed Had saw put seven joy short first Pronounce so enjoyment my resembled in forfeited sportsman Which vexed did began son abode short may Interested astonished he at cultivated or me Nor brought one invited she produce herIts sometimes her behaviour are contented Do listening am eagerness oh objection collected Together gay feelings continue juvenile had off one Unknown may service subject her letters one bed Child years noise ye in forty Loud in this in both hold My entrance me is disposal bachelor remember relationTo sure calm much most long me mean Able rent long in do we Uncommonly no it announcing melancholy an in Mirth learn it he given Secure shy favour length all twenty denote He felicity no an at packages answered opinions juvenileIndulgence announcing uncommonly met she continuing two unpleasing terminated Now busy say down the shed eyes roof paid her Of shameless collected suspicion existence in Share walls stuff think but the arise guest Course suffer to do he sussex it window advice Yet matter enable misery end extent common men should Her indulgence but assistance favourable cultivated everything collecting\n"
          ],
          "name": "stdout"
        }
      ]
    },
    {
      "cell_type": "markdown",
      "metadata": {
        "id": "OhX9pWjc1AMd"
      },
      "source": [
        "8.\tWrite a code for handling SyntaxError, ValueError, TypeError. Create a situation in your program such that List of built-in error you can find here  - https://docs.python.org/3.4/library/exceptions.html  "
      ]
    },
    {
      "cell_type": "code",
      "metadata": {
        "id": "1UMF-fevIrec",
        "colab": {
          "base_uri": "https://localhost:8080/",
          "height": 52
        },
        "outputId": "e255ab3c-03f1-4db2-b1d9-1dae6b9cd4da"
      },
      "source": [
        "#it is not possible to handle a syntax error normally, as the program will not compile; thus, it can be caught by using eval, exec or import\n",
        "#syntax errors are caught only while parsing\n",
        "try:\n",
        "  eval ('1 === 2')\n",
        "\n",
        "except (SyntaxError):\n",
        "  print(\"==== is not a valid operator\")    \n",
        "\n",
        "try:\n",
        "  print(\"the code causing error has not been executed\")\n",
        "   #exec(x = 1)\n",
        "except (IndentationError) as errr:\n",
        "  print(errr)  \n",
        "#this is not a parsing action and thus it cannot be caught at execution"
      ],
      "execution_count": null,
      "outputs": [
        {
          "output_type": "stream",
          "text": [
            "==== is not a valid operator\n",
            "the code causing error has not been executed\n"
          ],
          "name": "stdout"
        }
      ]
    },
    {
      "cell_type": "code",
      "metadata": {
        "id": "sreSnTyL1HWx",
        "colab": {
          "base_uri": "https://localhost:8080/",
          "height": 34
        },
        "outputId": "69593905-fdb4-4608-ef8f-4834e0fa1358"
      },
      "source": [
        "try:\n",
        "  \n",
        "  a = int(\"sstringg\")  \n",
        "  \n",
        "except (ValueError):\n",
        "  print(\"It is not possible to convert a string into an int\")"
      ],
      "execution_count": null,
      "outputs": [
        {
          "output_type": "stream",
          "text": [
            "It is not possible to convert a string into an int\n"
          ],
          "name": "stdout"
        }
      ]
    },
    {
      "cell_type": "code",
      "metadata": {
        "id": "RRchZlQaIREO",
        "colab": {
          "base_uri": "https://localhost:8080/",
          "height": 34
        },
        "outputId": "02cdced6-84cf-4042-af40-e5ccd1872950"
      },
      "source": [
        "try:\n",
        "\n",
        "  a = '5' + 5\n",
        "\n",
        "except (TypeError):\n",
        "  print(\"String and int cannot be added algebraically\")  "
      ],
      "execution_count": null,
      "outputs": [
        {
          "output_type": "stream",
          "text": [
            "String and int cannot be added algebraically\n"
          ],
          "name": "stdout"
        }
      ]
    },
    {
      "cell_type": "markdown",
      "metadata": {
        "id": "Fpd88_anJO2k"
      },
      "source": [
        "9.\tWrite code to read an Excel file. Create a file of your choice so that all part of the question can be answered. Extract the 3rd and 4th columns of sheet 2. Check if all the elements are numeric. Take the average of all the numeric values of each column. However, always raise an alert when a nonnumeric value is encountered."
      ]
    },
    {
      "cell_type": "code",
      "metadata": {
        "id": "esUhGYJcJSNv",
        "colab": {
          "base_uri": "https://localhost:8080/",
          "height": 318
        },
        "outputId": "5036abab-4dc3-493e-9616-82f9df91781e"
      },
      "source": [
        "import pandas as pd\n",
        "\n",
        "class Error(Exception):\n",
        "    #base class for all exception handling\n",
        "    pass\n",
        "\n",
        "\n",
        "class NotNumericError(Error):\n",
        "    #to raise an alert each time a non-numeric value is encountered\n",
        "    pass\n",
        "\n",
        "df = pd.read_excel('data.xlsx')\n",
        "print(\"The original dataframe:\")\n",
        "print(df)\n",
        "print()#newline\n",
        "\n",
        "#if all the elements of a columns are numeric, they automatically get converted to decimal\n",
        "#this is why the third column appears to be all decimal values\n",
        "\n",
        "#extracting the third and fourth columns of the sheet into lists\n",
        "col1 = df[df.columns[2]].values.tolist()\n",
        "#print(col1)\n",
        "col2 = df[df.columns[3]].values.tolist()\n",
        "#print(col2)\n",
        "\n",
        "\n",
        "n = len(df)\n",
        "avg = []\n",
        "#creating an empty list\n",
        "\n",
        "index1 = []\n",
        "index2 = []\n",
        "\n",
        "for i in range(0, n):\n",
        "  index1.append(i)\n",
        "  index2.append(i)\n",
        "#storing all the indices of the row into a list  \n",
        "\n",
        "for i in index1:\n",
        "  n1 = col1[i]\n",
        "  \n",
        "  try:  \n",
        "    if (type (n1) == str): \n",
        "        print(\"For column 3, \", end = \"\")\n",
        "        raise NotNumericError(i) \n",
        "        #as the only non-numeric type used in the sheet is string\n",
        "\n",
        "  except NotNumericError as Argument:\n",
        "    print(\"one of the values is not a number in row\", Argument)\n",
        "    index1.remove(i)\n",
        "\n",
        "for i in index2:\n",
        "  n2 = col2[i]\n",
        "  \n",
        "  try:  \n",
        "    if (type (n2) == str): \n",
        "        print(\"For column 4, \", end = \"\")\n",
        "        raise NotNumericError(i) \n",
        "        #as the only non-numeric type used in the sheet is string\n",
        "\n",
        "  except NotNumericError as Argument:\n",
        "    print(\"one of the values is not a number in row\", Argument)\n",
        "    index2.remove(i)\n",
        "\n",
        "sum1 = 0\n",
        "sum2 = 0\n",
        "\n",
        "for i in index1:\n",
        "  sum1 += col1[i]\n",
        "\n",
        "avg.append(sum1/5.0)\n",
        "\n",
        "for i in index2:\n",
        "  sum2 += col2[i]\n",
        "\n",
        "avg.append(sum2/5.0)\n",
        "    \n",
        "  #appending the average\n",
        "\n",
        "#print(index)\n",
        "#print(avg)\n",
        "\n",
        "print(\"\\nThe average of the values of each column = \")\n",
        "\n",
        "#creating a dictionary to convert to a new dataframe\n",
        "d = {'Column':[3, 4], 'Average':avg}\n",
        "df = pd.DataFrame(d)\n",
        "#converting the data into a dataframe\n",
        "\n",
        "df\n",
        "#printing the final dataframe"
      ],
      "execution_count": null,
      "outputs": [
        {
          "output_type": "stream",
          "text": [
            "The original dataframe:\n",
            "   A  B     C    D  E\n",
            "0  1  a  23.0   99  1\n",
            "1  2  e  45.0   yy  2\n",
            "2  3  i  67.0   43  3\n",
            "3  4  o  88.0   nn  4\n",
            "4  5  u   4.5  6.7  5\n",
            "\n",
            "For column 4, one of the values is not a number in row 1\n",
            "For column 4, one of the values is not a number in row 3\n",
            "\n",
            "The average of the values of each column = \n"
          ],
          "name": "stdout"
        },
        {
          "output_type": "execute_result",
          "data": {
            "text/html": [
              "<div>\n",
              "<style scoped>\n",
              "    .dataframe tbody tr th:only-of-type {\n",
              "        vertical-align: middle;\n",
              "    }\n",
              "\n",
              "    .dataframe tbody tr th {\n",
              "        vertical-align: top;\n",
              "    }\n",
              "\n",
              "    .dataframe thead th {\n",
              "        text-align: right;\n",
              "    }\n",
              "</style>\n",
              "<table border=\"1\" class=\"dataframe\">\n",
              "  <thead>\n",
              "    <tr style=\"text-align: right;\">\n",
              "      <th></th>\n",
              "      <th>Column</th>\n",
              "      <th>Average</th>\n",
              "    </tr>\n",
              "  </thead>\n",
              "  <tbody>\n",
              "    <tr>\n",
              "      <th>0</th>\n",
              "      <td>3</td>\n",
              "      <td>45.50</td>\n",
              "    </tr>\n",
              "    <tr>\n",
              "      <th>1</th>\n",
              "      <td>4</td>\n",
              "      <td>29.74</td>\n",
              "    </tr>\n",
              "  </tbody>\n",
              "</table>\n",
              "</div>"
            ],
            "text/plain": [
              "   Column  Average\n",
              "0       3    45.50\n",
              "1       4    29.74"
            ]
          },
          "metadata": {
            "tags": []
          },
          "execution_count": 111
        }
      ]
    },
    {
      "cell_type": "markdown",
      "metadata": {
        "id": "tIZihIXV8YBl"
      },
      "source": [
        "10.\tRead any ipnyb file and extract the python code. (Make sure that you open the ipnyb file and observe what all are to be removed). Keep the code in a text file with extension py. Run the new file in idle. Handle the syntax error in the new file."
      ]
    },
    {
      "cell_type": "code",
      "metadata": {
        "id": "SAPQ-EdxWzKq",
        "colab": {
          "base_uri": "https://localhost:8080/",
          "height": 1000
        },
        "outputId": "ea95a0f5-c670-4713-faa2-a46dca1a88ed"
      },
      "source": [
        "#this code aims to deal with the syntax error in the code by handling it using json, also successfully runs the code at the end\n",
        "#this is applicable to any ipynb file chosen with one cell of text followed by one cell of code, if we wish to run the code in the first cell; rest of the file will be ignored\n",
        "\n",
        "import json\n",
        "\n",
        "f = open(\"trial.ipynb\", 'r')\n",
        "nf = open(\"code1.py\", 'w')\n",
        "\n",
        "data = f.read()\n",
        "\n",
        "#print(data)\n",
        "\n",
        "code = json.loads(data)\n",
        "\n",
        "#print(code)\n",
        "\n",
        "code1 = code['cells'][1]\n",
        "code1 = code1['source']\n",
        "\n",
        "code2 = code['cells'][3]\n",
        "code2 = code2['source']\n",
        "\n",
        "l1 = ''.join([str(elem) for elem in code1]) \n",
        "#converting the list into a string\n",
        "print(l1)\n",
        "\n",
        "l2 = ''.join([str(elem) for elem in code2]) \n",
        "#converting the list into a string\n",
        "\n",
        "nf.write(l1 + \"\\n\")\n",
        "#writing it to a .py file in python, adding a '\\n' just in case\n",
        "\n",
        "nf.write(l2)\n",
        "#writing it to a .py file in python\n",
        "\n",
        "nf.close()\n",
        "\n",
        "nf = open(\"code1.py\", 'r')\n",
        "\n",
        "print(\"The final code copied to the .py file:\")\n",
        "print(nf.read())\n",
        "print(\"\\n\")\n",
        "\n",
        "print(\"On running the code:\")\n",
        "\n",
        "try:\n",
        "  exec(open('code1.py').read()) #if any syntax error occurs in this it will get caught \n",
        "except (SyntaxError) as err:\n",
        "  print(err)\n",
        "\n",
        "\n"
      ],
      "execution_count": null,
      "outputs": [
        {
          "output_type": "stream",
          "text": [
            "import random\n",
            "\n",
            "M1 = []\n",
            "M2 = []\n",
            "sum = []\n",
            "\n",
            "for i in range(3):\n",
            "  M1.append([])\n",
            "  M2.append([])\n",
            "  sum.append([])\n",
            "  for j in range(3):\n",
            "    M1[i].append(random.randrange(50, 100))\n",
            "  for j in range(3):\n",
            "    M2[i].append(random.randrange(50, 100))#taking all numbers in this range as then we need not worry about formatting\n",
            "  for j in range(3):\n",
            "    sum[i].append(M1[i][j] + M2[i][j])  \n",
            "  #finding the sum of the corresponding elements\n",
            "\n",
            "print(\"The two randomly generated matrices are as follows:\")\n",
            "\n",
            "for i in range(3):\n",
            "  for j in range(3):\n",
            "    print(M1[i][j], \"  \", end = '')\n",
            "  print(\"\\t\\t\", end = '')\n",
            "  for j in range(3):\n",
            "    print(M2[i][j], \"  \", end = '')\n",
            "  print()\n",
            "\n",
            "print(\"\\nThe sum of the two matrices\")\n",
            "\n",
            "for i in range(3):\n",
            "  for j in range(3):\n",
            "    print(sum[i][j], \"  \", end = '')\n",
            "  print() \n",
            "The final code copied to the .py file:\n",
            "import random\n",
            "\n",
            "M1 = []\n",
            "M2 = []\n",
            "sum = []\n",
            "\n",
            "for i in range(3):\n",
            "  M1.append([])\n",
            "  M2.append([])\n",
            "  sum.append([])\n",
            "  for j in range(3):\n",
            "    M1[i].append(random.randrange(50, 100))\n",
            "  for j in range(3):\n",
            "    M2[i].append(random.randrange(50, 100))#taking all numbers in this range as then we need not worry about formatting\n",
            "  for j in range(3):\n",
            "    sum[i].append(M1[i][j] + M2[i][j])  \n",
            "  #finding the sum of the corresponding elements\n",
            "\n",
            "print(\"The two randomly generated matrices are as follows:\")\n",
            "\n",
            "for i in range(3):\n",
            "  for j in range(3):\n",
            "    print(M1[i][j], \"  \", end = '')\n",
            "  print(\"\\t\\t\", end = '')\n",
            "  for j in range(3):\n",
            "    print(M2[i][j], \"  \", end = '')\n",
            "  print()\n",
            "\n",
            "print(\"\\nThe sum of the two matrices\")\n",
            "\n",
            "for i in range(3):\n",
            "  for j in range(3):\n",
            "    print(sum[i][j], \"  \", end = '')\n",
            "  print() \n",
            "year = int(input(\"Enter year to check if leap year  \"))\n",
            "\n",
            "if ((year % 100 != 0 and year % 4 == 0) or (year % 400 == 0)):\n",
            "  print(year, \"is a leap year\")\n",
            "else:\n",
            "  print(year, \"is not a leap year\")  \n",
            "#checking the conditons of leap year and printing it\n",
            "\n",
            "\n",
            "\n",
            "On running the code:\n",
            "The two randomly generated matrices are as follows:\n",
            "52   76   56   \t\t53   93   73   \n",
            "68   90   66   \t\t51   88   54   \n",
            "71   77   62   \t\t77   73   68   \n",
            "\n",
            "The sum of the two matrices\n",
            "105   169   129   \n",
            "119   178   120   \n",
            "148   150   130   \n",
            "Enter year to check if leap year  1900\n",
            "1900 is not a leap year\n"
          ],
          "name": "stdout"
        }
      ]
    },
    {
      "cell_type": "code",
      "metadata": {
        "id": "yZaF4aKh8bPi",
        "colab": {
          "base_uri": "https://localhost:8080/",
          "height": 246
        },
        "outputId": "4c68dafc-38a6-4397-c6f7-2db0f707fa2c"
      },
      "source": [
        "\n",
        "#this code has removed all sources of error and executed the final program successfully without using json\n",
        "\n",
        "import re\n",
        "\n",
        "f = open(\"sample.ipynb\", 'r')\n",
        "nf = open(\"code.txt\", 'w')\n",
        "\n",
        "data = f.read()\n",
        "#print(data)\n",
        "\n",
        "j = 0\n",
        "\n",
        "for i in re.finditer('\"source\":', data):\n",
        "  j = i.start()\n",
        "   #finding the occurence of 'source:' in the file, and it returns the last occurrence of the same\n",
        "\n",
        "data = data[j+11:]\n",
        "#extracting that part of the string from where the code starts\n",
        "\n",
        "for i in data:\n",
        " if (i == ']'):\n",
        "    break\n",
        " #as this indicates the end of the source part of the file\n",
        " elif (i == '\\\\'):\n",
        "   pass    \n",
        " #to ignore all backward slashes in the code  \n",
        "\n",
        " else:\n",
        "    nf.write(i)\n",
        " #writing to a text file, which acts as an intermediate   \n",
        "\n",
        "nf.close()\n",
        "#closing the text file\n",
        "\n",
        "nf = open(\"code.py\", 'w')\n",
        "#creating a new python file to finally copy the code at the end\n",
        "\n",
        "with open(\"code.txt\", 'r') as semi:\n",
        "  for i in semi:\n",
        "    i = i[9:len(i) - 4]\n",
        "    #manually counting the number of spaces and extracting the code as required\n",
        "    nf.write(i+ \"\\n\")\n",
        "    #copying to a new file, as the newline character has been destroyed, to add with every line written into the file\n",
        "\n",
        "nf.close()\n",
        "\n",
        "print(\"The final clean code:\")\n",
        "nf = open(\"code.py\", 'r')\n",
        "print(nf.read())\n",
        "\n",
        "exec(open('code.py').read())\n",
        "#running the python file"
      ],
      "execution_count": null,
      "outputs": [
        {
          "output_type": "stream",
          "text": [
            "The final clean code:\n",
            "\n",
            "year = int(input(\"Enter year to check if leap year  \"))\n",
            "\n",
            "if ((year % 100 != 0 and year % 4 == 0) or (year % 400 == 0)):\n",
            "  print(year, \"is a leap year\")\n",
            "else:\n",
            "  print(year, \"is not a leap year\")  \n",
            "#checking the conditons of leap year and printing \n",
            "\n",
            "\n",
            "Enter year to check if leap year  2000\n",
            "2000 is a leap year\n"
          ],
          "name": "stdout"
        }
      ]
    }
  ]
}