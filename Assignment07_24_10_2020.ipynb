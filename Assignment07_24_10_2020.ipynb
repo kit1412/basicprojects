{
  "nbformat": 4,
  "nbformat_minor": 0,
  "metadata": {
    "colab": {
      "name": "Assignment07_24_10_2020.ipynb",
      "provenance": [],
      "collapsed_sections": [],
      "authorship_tag": "ABX9TyPr+EnmKPbGX+jIU1CqRl9K",
      "include_colab_link": true
    },
    "kernelspec": {
      "name": "python3",
      "display_name": "Python 3"
    }
  },
  "cells": [
    {
      "cell_type": "markdown",
      "metadata": {
        "id": "view-in-github",
        "colab_type": "text"
      },
      "source": [
        "<a href=\"https://colab.research.google.com/github/kit1412/basicprojects/blob/pythoncodes/Assignment07_24_10_2020.ipynb\" target=\"_parent\"><img src=\"https://colab.research.google.com/assets/colab-badge.svg\" alt=\"Open In Colab\"/></a>"
      ]
    },
    {
      "cell_type": "code",
      "metadata": {
        "id": "DK4qNVfDu97l",
        "colab": {
          "base_uri": "https://localhost:8080/",
          "height": 34
        },
        "outputId": "6767c736-31f4-4a98-9975-af40b9b529eb"
      },
      "source": [
        "from google.colab import drive\n",
        "drive.mount('/content/drive')"
      ],
      "execution_count": null,
      "outputs": [
        {
          "output_type": "stream",
          "text": [
            "Mounted at /content/drive\n"
          ],
          "name": "stdout"
        }
      ]
    },
    {
      "cell_type": "code",
      "metadata": {
        "id": "kG_IvuwsvCRF"
      },
      "source": [
        "import sys\n",
        "sys.path.append('/content/drive/My Drive/Second yr/Ankita_Radhakrishnan_19IM30005/Assignment_7_ 22_10_2020/')"
      ],
      "execution_count": null,
      "outputs": []
    },
    {
      "cell_type": "code",
      "metadata": {
        "id": "fJr1dNffJKlG",
        "colab": {
          "base_uri": "https://localhost:8080/",
          "height": 34
        },
        "outputId": "354b8c6f-da83-4044-d255-083c4265219a"
      },
      "source": [
        "!ls '/content/drive/My Drive/Second yr/Ankita_Radhakrishnan_19IM30005/Assignment_7_ 22_10_2020/'"
      ],
      "execution_count": null,
      "outputs": [
        {
          "output_type": "stream",
          "text": [
            "Accounts.py  Assignment07_24_10_2020.ipynb  mypackage  op.py  Shape.py\n"
          ],
          "name": "stdout"
        }
      ]
    },
    {
      "cell_type": "markdown",
      "metadata": {
        "id": "B22GfR_P-hyQ"
      },
      "source": [
        "\n",
        "\n",
        "1.\tCreate a class “Accounts”. It must contain the __init__() method with customer name and opening amount as argument. Add the following methods:\n",
        "\n",
        "a.\tdeposit () to deposit amount\n",
        "b.\twithdraw () to withdraw amount\n",
        "c.\tbalance () to display the account balance.\n",
        "\n",
        "Invoke this functions by importing this class to other Python script file.\n",
        "\n",
        "\n"
      ]
    },
    {
      "cell_type": "code",
      "metadata": {
        "id": "8c77T6Tx-c-S",
        "colab": {
          "base_uri": "https://localhost:8080/",
          "height": 738
        },
        "outputId": "b92e77c3-7308-419d-bce7-4bb562975fc9"
      },
      "source": [
        "from Accounts import Accounts\n",
        "#from filename import classname\n",
        "\n",
        "ch = 1\n",
        "\n",
        "print(\"Input the name and amount\")\n",
        "n = input(\"Name = \\n\")\n",
        "amt = float (input(\"Amount = \\n\"))\n",
        "\n",
        "obj = Accounts(n, amt)\n",
        "\n",
        "while ch != 0:\n",
        "      print(\"1 - Deposit\")\n",
        "      print(\"2 - Withdrawal\")\n",
        "      print(\"3 - Print the balance\")\n",
        "      print(\"0 - Exit\")\n",
        "      #displaying the choices to the user\n",
        "    \n",
        "      ch = int(input(\"Input your choice\\n\"))\n",
        "\n",
        "      if ch == 1:\n",
        "        amt = float (input(\"Amount \\n\"))\n",
        "        obj.deposit(amt)\n",
        "      elif ch == 2:\n",
        "        amt = float (input(\"Amount \\n\"))\n",
        "        obj.withdraw(amt)\n",
        "      elif ch == 3:\n",
        "        obj.balance()\n",
        "      elif ch == 0:\n",
        "        break\n",
        "      else:\n",
        "        print(\"Incorrect option\")\n"
      ],
      "execution_count": null,
      "outputs": [
        {
          "output_type": "stream",
          "text": [
            "Input the name and amount\n",
            "Name = \n",
            "dc ytdrtfyg uh\n",
            "Amount = \n",
            "9000\n",
            "1 - Deposit\n",
            "2 - Withdrawal\n",
            "3 - Print the balance\n",
            "0 - Exit\n",
            "Input your choice\n",
            "1\n",
            "Amount \n",
            "78\n",
            "1 - Deposit\n",
            "2 - Withdrawal\n",
            "3 - Print the balance\n",
            "0 - Exit\n",
            "Input your choice\n",
            "2\n",
            "Amount \n",
            "988\n",
            "1 - Deposit\n",
            "2 - Withdrawal\n",
            "3 - Print the balance\n",
            "0 - Exit\n",
            "Input your choice\n",
            "3\n",
            "8090.0\n",
            "1 - Deposit\n",
            "2 - Withdrawal\n",
            "3 - Print the balance\n",
            "0 - Exit\n",
            "Input your choice\n",
            "9\n",
            "Incorrect option\n",
            "1 - Deposit\n",
            "2 - Withdrawal\n",
            "3 - Print the balance\n",
            "0 - Exit\n",
            "Input your choice\n",
            "0\n"
          ],
          "name": "stdout"
        }
      ]
    },
    {
      "cell_type": "markdown",
      "metadata": {
        "id": "d4TRslmgAwQv"
      },
      "source": [
        "2.\tCreate a file containing functions such as maximum, minimum, sum, average to summarise a set of integers and call these functions from another Python script"
      ]
    },
    {
      "cell_type": "code",
      "metadata": {
        "id": "G6-ksSVlpqva",
        "colab": {
          "base_uri": "https://localhost:8080/",
          "height": 87
        },
        "outputId": "f2b5ca9e-47a1-47cb-d65e-8816e0ab26e4"
      },
      "source": [
        "from op import *\n",
        "#from filename import all functions\n",
        "\n",
        "b = set([2, 43, 0, 5, -24, 18888, -99, 100, 333])\n",
        "\n",
        "#print(b)\n",
        "\n",
        "print(\"The largest number in the set = \", maxi(b))\n",
        "print(\"The smallest number in the set = \", mini(b))\n",
        "print(\"The sum of all the numbers in the set = \", sumN(b))\n",
        "print(\"The average of all the numbers in the set = \", avg(b))"
      ],
      "execution_count": null,
      "outputs": [
        {
          "output_type": "stream",
          "text": [
            "The largest number in the set =  18888\n",
            "The smallest number in the set =  -99\n",
            "The sum of all the numbers in the set =  19248\n",
            "The average of all the numbers in the set =  2138.6666666666665\n"
          ],
          "name": "stdout"
        }
      ]
    },
    {
      "cell_type": "markdown",
      "metadata": {
        "id": "Q6HpNeJ0shBC"
      },
      "source": [
        "3.\tExtend our running example class ‘shape’ by including other geometric objects such as square, sphere, cube and calculate perimeter and area by importing these classes from other Python script file."
      ]
    },
    {
      "cell_type": "code",
      "metadata": {
        "id": "JR1ufrAD3tGU",
        "colab": {
          "base_uri": "https://localhost:8080/",
          "height": 369
        },
        "outputId": "994903c3-c99d-4b77-b9f5-41c77a653fa5"
      },
      "source": [
        "from Shape import *\n",
        "\n",
        "s = float (input(\"Input the side of the square\\t\"))\n",
        "sq = Square (s)\n",
        "\n",
        "print(\"Area of the square = \", sq.area())\n",
        "print(\"Perimeter of the square = \", sq.perimeter())\n",
        "\n",
        "r = float (input(\"\\n\\nInput the radius of the sphere\\t\"))\n",
        "sph = Sphere(r)\n",
        "\n",
        "#printing the surface area of the sphere\n",
        "print(\"Area of the sphere = \", sph.area())\n",
        "print(\"Perimeter of the sphere = \", sph.perimeter())\n",
        "#using a dummy formula for the perimeter of the sphere which does not exist\n",
        "\n",
        "\n",
        "a = float (input (\"\\n\\nInput the side of the cube\\t\"))\n",
        "c = Cube(a)\n",
        "print(\"Area of the cube = \", c.area())\n",
        "print(\"Perimeter of the cube = \", c.perimeter())\n",
        "#finding the respective values for a cube\n",
        "\n",
        "print(\"\\n\\nInput the minor and major radii of the ellipse\")\n",
        "r1 = float (input (\"Minor radius = \\t\"))\n",
        "r2 = float (input (\"Major radius = \\t\"))\n",
        "e = Ellipse(r1, r2)\n",
        "print(\"Area of the ellipse = \", e.area())\n",
        "print(\"Perimeter of the ellipse = \", e.perimeter())"
      ],
      "execution_count": null,
      "outputs": [
        {
          "output_type": "stream",
          "text": [
            "Input the side of the square\t7\n",
            "Area of the square =  49.0\n",
            "Perimeter of the square =  28.0\n",
            "\n",
            "\n",
            "Input the radius of the sphere\t5\n",
            "Area of the sphere =  314.0\n",
            "Perimeter of the sphere =  94.2\n",
            "\n",
            "\n",
            "Input the side of the cube\t4\n",
            "Area of the cube =  96.0\n",
            "Perimeter of the cube =  48.0\n",
            "\n",
            "\n",
            "Input the minor and major radii of the ellipse\n",
            "Minor radius = \t2\n",
            "Major radius = \t5\n",
            "Area of the ellipse =  31.400000000000002\n",
            "Perimeter of the ellipse =  23.001145800103142\n"
          ],
          "name": "stdout"
        }
      ]
    },
    {
      "cell_type": "markdown",
      "metadata": {
        "id": "sFi4c94kBEtD"
      },
      "source": [
        "\n",
        "4.\tRepeat the procedure by writing the functions in one file and invoking them from other file. \n"
      ]
    },
    {
      "cell_type": "code",
      "metadata": {
        "id": "bFxMYVrhBO6J",
        "colab": {
          "base_uri": "https://localhost:8080/",
          "height": 1000
        },
        "outputId": "e8fd520e-d2f2-4e9b-e6d9-9a63f835abc0"
      },
      "source": [
        "from mypackage import Accounts\n",
        "from mypackage import op\n",
        "from mypackage import Shape\n",
        "from Accounts import Accounts\n",
        "from op import *\n",
        "from Shape import *\n",
        "\n",
        "print(\"Input the name and amount\")\n",
        "n = input(\"Name = \\t\")\n",
        "amt = float (input(\"Amount = \\t\"))\n",
        "\n",
        "a = Accounts(n, amt)\n",
        "\n",
        "ch = 1\n",
        "\n",
        "while ch != 0:\n",
        "      print(\"1 - Deposit\")\n",
        "      print(\"2 - Withdrawal\")\n",
        "      print(\"3 - Print the balance\")\n",
        "      print(\"0 - Exit\")\n",
        "      #displaying the choices to the user\n",
        "    \n",
        "      ch = int(input(\"Input your choice\\n\"))\n",
        "\n",
        "      if ch == 1:\n",
        "        amt = float (input(\"Amount \\n\"))\n",
        "        a.deposit(amt)\n",
        "      elif ch == 2:\n",
        "        amt = float (input(\"Amount \\n\"))\n",
        "        a.withdraw(amt)\n",
        "      elif ch == 3:\n",
        "        a.balance()\n",
        "      elif ch == 0:\n",
        "        break\n",
        "      else:\n",
        "        print(\"Incorrect option\")\n",
        "\n",
        "\n",
        "b = set([2, 43, 0, 5, -24, 18888, -99, 100, 333])\n",
        "\n",
        "#print(b)\n",
        "\n",
        "print(\"The largest number in the set = \", maxi(b))\n",
        "print(\"The smallest number in the set = \", mini(b))\n",
        "print(\"The sum of all the numbers in the set = \", sumN(b))\n",
        "print(\"The average of all the numbers in the set = \", avg(b))\n",
        "\n",
        "s = float (input(\"Input the side of the square\\t\"))\n",
        "sq = Square (s)\n",
        "\n",
        "print(\"Area of the square = \", sq.area())\n",
        "print(\"Perimeter of the square = \", sq.perimeter())\n",
        "\n",
        "r = float (input(\"\\n\\nInput the radius of the sphere\\t\"))\n",
        "sph = Sphere (r)\n",
        "\n",
        "#printing the surface area of the sphere\n",
        "print(\"Area of the sphere = \", sph.area())\n",
        "print(\"Perimeter of the sphere = \", sph.perimeter())\n",
        "#using a dummy formula for the perimeter of the sphere which does not exist\n",
        "\n",
        "\n",
        "a = float (input (\"\\n\\nInput the side of the cube\\t\"))\n",
        "c = Cube(a)\n",
        "print(\"Area of the cube = \", c.area())\n",
        "print(\"Perimeter of the cube = \", c.perimeter())\n",
        "#finding the respective values for a cube\n",
        "\n",
        "print(\"\\n\\nInput the minor and major radii of the ellipse\")\n",
        "r1 = float (input (\"Minor radius = \\t\"))\n",
        "r2 = float (input (\"Major radius = \\t\"))\n",
        "e = Ellipse(r1, r2)\n",
        "print(\"Area of the ellipse = \", e.area())\n",
        "print(\"Perimeter of the ellipse = \", e.perimeter())"
      ],
      "execution_count": null,
      "outputs": [
        {
          "output_type": "stream",
          "text": [
            "Input the name and amount\n",
            "Name = \tvdrtfyguhk\n",
            "Amount = \t900\n",
            "1 - Deposit\n",
            "2 - Withdrawal\n",
            "3 - Print the balance\n",
            "0 - Exit\n",
            "Input your choice\n",
            "1\n",
            "Amount \n",
            "233\n",
            "1 - Deposit\n",
            "2 - Withdrawal\n",
            "3 - Print the balance\n",
            "0 - Exit\n",
            "Input your choice\n",
            "2\n",
            "Amount \n",
            "444\n",
            "1 - Deposit\n",
            "2 - Withdrawal\n",
            "3 - Print the balance\n",
            "0 - Exit\n",
            "Input your choice\n",
            "3\n",
            "689.0\n",
            "1 - Deposit\n",
            "2 - Withdrawal\n",
            "3 - Print the balance\n",
            "0 - Exit\n",
            "Input your choice\n",
            "4\n",
            "Incorrect option\n",
            "1 - Deposit\n",
            "2 - Withdrawal\n",
            "3 - Print the balance\n",
            "0 - Exit\n",
            "Input your choice\n",
            "0\n",
            "The largest number in the set =  18888\n",
            "The smallest number in the set =  -99\n",
            "The sum of all the numbers in the set =  19248\n",
            "The average of all the numbers in the set =  2138.6666666666665\n",
            "Input the side of the square\t3\n",
            "Area of the square =  9.0\n",
            "Perimeter of the square =  12.0\n",
            "\n",
            "\n",
            "Input the radius of the sphere\t4\n",
            "Area of the sphere =  200.96\n",
            "Perimeter of the sphere =  75.36\n",
            "\n",
            "\n",
            "Input the side of the cube\t5\n",
            "Area of the cube =  150.0\n",
            "Perimeter of the cube =  60.0\n",
            "\n",
            "\n",
            "Input the minor and major radii of the ellipse\n",
            "Minor radius = \t2\n",
            "Major radius = \t5\n",
            "Area of the ellipse =  31.400000000000002\n",
            "Perimeter of the ellipse =  23.001145800103142\n"
          ],
          "name": "stdout"
        }
      ]
    }
  ]
}