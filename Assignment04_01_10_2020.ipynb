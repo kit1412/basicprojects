{
  "nbformat": 4,
  "nbformat_minor": 0,
  "metadata": {
    "colab": {
      "name": "Assignment04_01_10_2020.ipynb",
      "provenance": [],
      "collapsed_sections": [],
      "authorship_tag": "ABX9TyMD82s9DuwSjP+8eDAyBa+O",
      "include_colab_link": true
    },
    "kernelspec": {
      "name": "python3",
      "display_name": "Python 3"
    }
  },
  "cells": [
    {
      "cell_type": "markdown",
      "metadata": {
        "id": "view-in-github",
        "colab_type": "text"
      },
      "source": [
        "<a href=\"https://colab.research.google.com/github/kit1412/basicprojects/blob/pythoncodes/Assignment04_01_10_2020.ipynb\" target=\"_parent\"><img src=\"https://colab.research.google.com/assets/colab-badge.svg\" alt=\"Open In Colab\"/></a>"
      ]
    },
    {
      "cell_type": "markdown",
      "metadata": {
        "id": "q0nd0qr3T--Z"
      },
      "source": [
        "1.\tTake input of a number and check whether it is a prime number"
      ]
    },
    {
      "cell_type": "code",
      "metadata": {
        "id": "TfisQM69T24z",
        "colab": {
          "base_uri": "https://localhost:8080/",
          "height": 34
        },
        "outputId": "eb545cd2-026f-48e7-c172-dc206a806497"
      },
      "source": [
        "import random\n",
        "\n",
        "n = random.randrange(1, 100)\n",
        "#generates a random number\n",
        "\n",
        "num = 0\n",
        "#to store the number of factors\n",
        "\n",
        "if (n == 1):\n",
        "  num = -1\n",
        "#1 is neither prime nor composite  \n",
        "\n",
        "for f in range(2, n):\n",
        "  if (n % f == 0):\n",
        "    num += 1\n",
        "    break\n",
        "  f += 1\n",
        "#if number of factors is more than 0, as we are looking from 2 to n-1, the number will not be prime\n",
        "\n",
        "\n",
        "if (num == -1):\n",
        "  print(n, \"is neither prime nor composite\")\n",
        "if (num == 0):\n",
        "  print(n, \"is a prime number\")\n",
        "if (num > 0):\n",
        "  print(n, \"is not a prime number\")"
      ],
      "execution_count": null,
      "outputs": [
        {
          "output_type": "stream",
          "text": [
            "83 is a prime number\n"
          ],
          "name": "stdout"
        }
      ]
    },
    {
      "cell_type": "markdown",
      "metadata": {
        "id": "rKEKaXL4VKjH"
      },
      "source": [
        "2.\tCreate a list of marks for 30 students. Mark them between 1 to 100 and apply grade to them as below – \n",
        "Score Range\tGrade\n",
        "1-40\tF\n",
        "40-50\tD\n",
        "50-60\tC\n",
        "60-70\tB\n",
        "70-80\tA\n",
        "80-90\tEx\n",
        "90 - 100\tTop\n"
      ]
    },
    {
      "cell_type": "code",
      "metadata": {
        "id": "qBqto2-WVUfC",
        "colab": {
          "base_uri": "https://localhost:8080/",
          "height": 935
        },
        "outputId": "1a06f64a-4c63-4035-b3a7-6bec5d698e69"
      },
      "source": [
        "import random\n",
        "import pandas as pd\n",
        "\n",
        "marks = []\n",
        "\n",
        "for i in range(30):\n",
        "  marks.append(random.randint(0, 100))\n",
        "#to generate 30 random numbers between 0 and 100 each time  \n",
        "\n",
        "grades = []\n",
        "\n",
        "for i in range(30):\n",
        "  if (marks[i] < 40):\n",
        "    grades.append('F')\n",
        "  elif (marks[i] < 50):\n",
        "    grades.append('D')\n",
        "  elif (marks[i] < 60):\n",
        "    grades.append('C')\n",
        "  elif (marks[i] < 70):\n",
        "    grades.append('B')\n",
        "  elif (marks[i] < 80):\n",
        "    grades.append('A')\n",
        "  elif (marks[i] < 90):\n",
        "    grades.append('EX')\n",
        "  else: \n",
        "    grades.append('Top')\n",
        " #calculating the grades\n",
        "\n",
        "info = pd.DataFrame()\n",
        "\n",
        "info['Marks'] = marks\n",
        "info['Grades'] = grades\n",
        "\n",
        "info"
      ],
      "execution_count": null,
      "outputs": [
        {
          "output_type": "execute_result",
          "data": {
            "text/html": [
              "<div>\n",
              "<style scoped>\n",
              "    .dataframe tbody tr th:only-of-type {\n",
              "        vertical-align: middle;\n",
              "    }\n",
              "\n",
              "    .dataframe tbody tr th {\n",
              "        vertical-align: top;\n",
              "    }\n",
              "\n",
              "    .dataframe thead th {\n",
              "        text-align: right;\n",
              "    }\n",
              "</style>\n",
              "<table border=\"1\" class=\"dataframe\">\n",
              "  <thead>\n",
              "    <tr style=\"text-align: right;\">\n",
              "      <th></th>\n",
              "      <th>Marks</th>\n",
              "      <th>Grades</th>\n",
              "    </tr>\n",
              "  </thead>\n",
              "  <tbody>\n",
              "    <tr>\n",
              "      <th>0</th>\n",
              "      <td>13</td>\n",
              "      <td>F</td>\n",
              "    </tr>\n",
              "    <tr>\n",
              "      <th>1</th>\n",
              "      <td>13</td>\n",
              "      <td>F</td>\n",
              "    </tr>\n",
              "    <tr>\n",
              "      <th>2</th>\n",
              "      <td>25</td>\n",
              "      <td>F</td>\n",
              "    </tr>\n",
              "    <tr>\n",
              "      <th>3</th>\n",
              "      <td>20</td>\n",
              "      <td>F</td>\n",
              "    </tr>\n",
              "    <tr>\n",
              "      <th>4</th>\n",
              "      <td>6</td>\n",
              "      <td>F</td>\n",
              "    </tr>\n",
              "    <tr>\n",
              "      <th>5</th>\n",
              "      <td>60</td>\n",
              "      <td>B</td>\n",
              "    </tr>\n",
              "    <tr>\n",
              "      <th>6</th>\n",
              "      <td>56</td>\n",
              "      <td>C</td>\n",
              "    </tr>\n",
              "    <tr>\n",
              "      <th>7</th>\n",
              "      <td>1</td>\n",
              "      <td>F</td>\n",
              "    </tr>\n",
              "    <tr>\n",
              "      <th>8</th>\n",
              "      <td>82</td>\n",
              "      <td>EX</td>\n",
              "    </tr>\n",
              "    <tr>\n",
              "      <th>9</th>\n",
              "      <td>43</td>\n",
              "      <td>D</td>\n",
              "    </tr>\n",
              "    <tr>\n",
              "      <th>10</th>\n",
              "      <td>1</td>\n",
              "      <td>F</td>\n",
              "    </tr>\n",
              "    <tr>\n",
              "      <th>11</th>\n",
              "      <td>48</td>\n",
              "      <td>D</td>\n",
              "    </tr>\n",
              "    <tr>\n",
              "      <th>12</th>\n",
              "      <td>40</td>\n",
              "      <td>D</td>\n",
              "    </tr>\n",
              "    <tr>\n",
              "      <th>13</th>\n",
              "      <td>22</td>\n",
              "      <td>F</td>\n",
              "    </tr>\n",
              "    <tr>\n",
              "      <th>14</th>\n",
              "      <td>32</td>\n",
              "      <td>F</td>\n",
              "    </tr>\n",
              "    <tr>\n",
              "      <th>15</th>\n",
              "      <td>84</td>\n",
              "      <td>EX</td>\n",
              "    </tr>\n",
              "    <tr>\n",
              "      <th>16</th>\n",
              "      <td>43</td>\n",
              "      <td>D</td>\n",
              "    </tr>\n",
              "    <tr>\n",
              "      <th>17</th>\n",
              "      <td>76</td>\n",
              "      <td>A</td>\n",
              "    </tr>\n",
              "    <tr>\n",
              "      <th>18</th>\n",
              "      <td>9</td>\n",
              "      <td>F</td>\n",
              "    </tr>\n",
              "    <tr>\n",
              "      <th>19</th>\n",
              "      <td>57</td>\n",
              "      <td>C</td>\n",
              "    </tr>\n",
              "    <tr>\n",
              "      <th>20</th>\n",
              "      <td>14</td>\n",
              "      <td>F</td>\n",
              "    </tr>\n",
              "    <tr>\n",
              "      <th>21</th>\n",
              "      <td>17</td>\n",
              "      <td>F</td>\n",
              "    </tr>\n",
              "    <tr>\n",
              "      <th>22</th>\n",
              "      <td>85</td>\n",
              "      <td>EX</td>\n",
              "    </tr>\n",
              "    <tr>\n",
              "      <th>23</th>\n",
              "      <td>29</td>\n",
              "      <td>F</td>\n",
              "    </tr>\n",
              "    <tr>\n",
              "      <th>24</th>\n",
              "      <td>10</td>\n",
              "      <td>F</td>\n",
              "    </tr>\n",
              "    <tr>\n",
              "      <th>25</th>\n",
              "      <td>77</td>\n",
              "      <td>A</td>\n",
              "    </tr>\n",
              "    <tr>\n",
              "      <th>26</th>\n",
              "      <td>21</td>\n",
              "      <td>F</td>\n",
              "    </tr>\n",
              "    <tr>\n",
              "      <th>27</th>\n",
              "      <td>36</td>\n",
              "      <td>F</td>\n",
              "    </tr>\n",
              "    <tr>\n",
              "      <th>28</th>\n",
              "      <td>24</td>\n",
              "      <td>F</td>\n",
              "    </tr>\n",
              "    <tr>\n",
              "      <th>29</th>\n",
              "      <td>80</td>\n",
              "      <td>EX</td>\n",
              "    </tr>\n",
              "  </tbody>\n",
              "</table>\n",
              "</div>"
            ],
            "text/plain": [
              "    Marks Grades\n",
              "0      13      F\n",
              "1      13      F\n",
              "2      25      F\n",
              "3      20      F\n",
              "4       6      F\n",
              "5      60      B\n",
              "6      56      C\n",
              "7       1      F\n",
              "8      82     EX\n",
              "9      43      D\n",
              "10      1      F\n",
              "11     48      D\n",
              "12     40      D\n",
              "13     22      F\n",
              "14     32      F\n",
              "15     84     EX\n",
              "16     43      D\n",
              "17     76      A\n",
              "18      9      F\n",
              "19     57      C\n",
              "20     14      F\n",
              "21     17      F\n",
              "22     85     EX\n",
              "23     29      F\n",
              "24     10      F\n",
              "25     77      A\n",
              "26     21      F\n",
              "27     36      F\n",
              "28     24      F\n",
              "29     80     EX"
            ]
          },
          "metadata": {
            "tags": []
          },
          "execution_count": 32
        }
      ]
    },
    {
      "cell_type": "markdown",
      "metadata": {
        "id": "s45NlchYZkya"
      },
      "source": [
        "3.\tWrite a function to check whether a given year is a leap year. (Hint: Leap years are divisible by 4. Year which is multiple of 100 is leap year if it’s divisible by 400)"
      ]
    },
    {
      "cell_type": "code",
      "metadata": {
        "id": "wSnhCejfZpZk",
        "colab": {
          "base_uri": "https://localhost:8080/",
          "height": 70
        },
        "outputId": "8767037f-7105-4cc7-db84-f8735d85e417"
      },
      "source": [
        "year = int(input(\"Enter year to check if leap year\\n\"))\n",
        "\n",
        "if ((year % 100 != 0 and year % 4 == 0) or (year % 400 == 0)):\n",
        "  print(year, \"is a leap year\")\n",
        "else:\n",
        "  print(year, \"is not a leap year\")  \n",
        "#checking the conditons of leap year and printing it   "
      ],
      "execution_count": null,
      "outputs": [
        {
          "output_type": "stream",
          "text": [
            "Enter year to check if leap year\n",
            "2017\n",
            "2017 is not a leap year\n"
          ],
          "name": "stdout"
        }
      ]
    },
    {
      "cell_type": "markdown",
      "metadata": {
        "id": "fMxWLYAEaFtj"
      },
      "source": [
        "4.\tTake a Sentence and write a function to count the vowels appeared in the sentence. \n",
        "Hint - \n",
        "a.\tRun a loop through list of vowels\n",
        "b.\tCheck whether that vowel appeared in the sentence or not\n",
        "c.\tRemember python is case sensitive.\n"
      ]
    },
    {
      "cell_type": "code",
      "metadata": {
        "id": "ofujTEcPaK2D",
        "colab": {
          "base_uri": "https://localhost:8080/",
          "height": 250
        },
        "outputId": "564ac314-db7b-4188-f8e3-2d73b5bb0130"
      },
      "source": [
        "import pandas as pd\n",
        "import random\n",
        "import string\n",
        "\n",
        "vowel = ['a', 'e', 'i', 'o', 'u']\n",
        "count = [0, 0, 0, 0, 0]\n",
        "#to store the frequency of each vowel\n",
        "\n",
        "lower = string.ascii_lowercase\n",
        "sent = ''.join(random.choice(lower) for i in range(random.randrange(1, 1000)))\n",
        "print(\"\\nThe generated sentence = \", sent)\n",
        "#to generate a string of any length between 1 and 1000 consisting of only lowercase letters\n",
        "\n",
        "chtrs = list(sent)\n",
        "#converting to a list of characters\n",
        "\n",
        "for i in range(5):\n",
        "  for j in range(0, len(chtrs)):\n",
        "    if (chtrs[j] == vowel[i]):\n",
        "      count[i] += 1\n",
        "#counting the number of vowels      \n",
        "\n",
        "freq = pd.DataFrame()\n",
        "freq['Vowels'] = vowel\n",
        "freq['Frequency'] = count\n",
        "#converting the data to a pandas dataframe\n",
        "\n",
        "freq  "
      ],
      "execution_count": null,
      "outputs": [
        {
          "output_type": "stream",
          "text": [
            "\n",
            "The generated sentence =  kewoucuyhdxbubpxbidjhdjmoclonvfzfubwmpcqobzlpnhybeiogfrhulkdyfhqizfxyoscoonvsilljelzeduuolbtovzzivbqthvhguuvxsuhwxpddrnyviymcrmpzwthlusetpsyehefehcxsywspszikbbhzwynfcktlsukbprpjugjlauzwtcgxicikgsvsyznikohjmjmdirjlkxkkrtlxanleocpgekvgllbgfplclwlxylwzkounifqosjjcccuiyuuwtxkxcqrjmttmyoughlggdhtpqvtefeofexgnlgmxwbbfwymxajgfkehvilashmrvkymcyxxrxwxrfclicvhmlabizcppjwyncadhgtaqegrjvbikbmvhxqweuffiepkpayyachlachsfqdcceadkoynxtbmbpscfpukbuaxtkycpmotzriaxhknnajpofugeckyamlhvgqlzgzwfayxudoptnnbytfjuwjqenfrsdjzargwikunksswbxzevquceqpgjlowpmqxqnbxzvyolznkrplklbukkvdayykwxvnwjiaekeamqfcfjpoafqvljulgdycpijckzidmzyluiakqwusawrdmvfuleqcjirrkhsvmsyfswwaosnlmbfde\n"
          ],
          "name": "stdout"
        },
        {
          "output_type": "execute_result",
          "data": {
            "text/html": [
              "<div>\n",
              "<style scoped>\n",
              "    .dataframe tbody tr th:only-of-type {\n",
              "        vertical-align: middle;\n",
              "    }\n",
              "\n",
              "    .dataframe tbody tr th {\n",
              "        vertical-align: top;\n",
              "    }\n",
              "\n",
              "    .dataframe thead th {\n",
              "        text-align: right;\n",
              "    }\n",
              "</style>\n",
              "<table border=\"1\" class=\"dataframe\">\n",
              "  <thead>\n",
              "    <tr style=\"text-align: right;\">\n",
              "      <th></th>\n",
              "      <th>Vowels</th>\n",
              "      <th>Frequency</th>\n",
              "    </tr>\n",
              "  </thead>\n",
              "  <tbody>\n",
              "    <tr>\n",
              "      <th>0</th>\n",
              "      <td>a</td>\n",
              "      <td>24</td>\n",
              "    </tr>\n",
              "    <tr>\n",
              "      <th>1</th>\n",
              "      <td>e</td>\n",
              "      <td>26</td>\n",
              "    </tr>\n",
              "    <tr>\n",
              "      <th>2</th>\n",
              "      <td>i</td>\n",
              "      <td>25</td>\n",
              "    </tr>\n",
              "    <tr>\n",
              "      <th>3</th>\n",
              "      <td>o</td>\n",
              "      <td>24</td>\n",
              "    </tr>\n",
              "    <tr>\n",
              "      <th>4</th>\n",
              "      <td>u</td>\n",
              "      <td>32</td>\n",
              "    </tr>\n",
              "  </tbody>\n",
              "</table>\n",
              "</div>"
            ],
            "text/plain": [
              "  Vowels  Frequency\n",
              "0      a         24\n",
              "1      e         26\n",
              "2      i         25\n",
              "3      o         24\n",
              "4      u         32"
            ]
          },
          "metadata": {
            "tags": []
          },
          "execution_count": 87
        }
      ]
    },
    {
      "cell_type": "markdown",
      "metadata": {
        "id": "rzNU21tweGe5"
      },
      "source": [
        "5.\tWrite a program to create a simple calculator. (keep only basic operations  - addition, subtraction, multiplication, division. For each operation write a separate function.)"
      ]
    },
    {
      "cell_type": "code",
      "metadata": {
        "id": "FnqWho6_eKdG",
        "colab": {
          "base_uri": "https://localhost:8080/",
          "height": 985
        },
        "outputId": "c58a660d-9f0f-4783-a448-459b210817e2"
      },
      "source": [
        "def sum(n1, n2):\n",
        "  return n1 + n2\n",
        "\n",
        "def diff(n1, n2):\n",
        "  return n1 - n2 \n",
        "\n",
        "def prod(n1, n2):\n",
        "  return n1*n2\n",
        "\n",
        "def quo(n1, n2):\n",
        "  return n1/n2\n",
        "#perfoming the four basic operations\n",
        "\n",
        "print(\"Input two numbers\\n\")\n",
        "\n",
        "n1 = int(input())\n",
        "n2 = int(input())\n",
        "#taking two numbers as input\n",
        "\n",
        "ch = 'a'\n",
        "\n",
        "while (ch != 'AC'):\n",
        "  print(\"\\nMenu\")\n",
        "  print(\"+ - Addition\")\n",
        "  print(\"- - Subtraction\")\n",
        "  print(\"* - Multiplication\")\n",
        "  print(\"/ - Division\")\n",
        "  print(\"AC - Quit\")\n",
        "  ch = (input(\"Input your choice\\n\"))\n",
        "\n",
        "  if (ch == 'AC'):\n",
        "    print(\"Switched Off\")\n",
        "    break\n",
        "  else:\n",
        "    if (ch == '+'):\n",
        "      print(\"\\nSum = \", sum(n1, n2))\n",
        "    elif (ch == '-'):\n",
        "      print(\"Difference = \", diff(n1, n2))\n",
        "    elif (ch == '*'):  \n",
        "      print(\"Product = \", prod(n1, n2))\n",
        "    elif (ch == '/'):\n",
        "      print(\"Quotient = \", quo(n1, n2))\n",
        "#printing the answers"
      ],
      "execution_count": null,
      "outputs": [
        {
          "output_type": "stream",
          "text": [
            "Input two numbers\n",
            "\n",
            "24\n",
            "55\n",
            "\n",
            "Menu\n",
            "+ - Addition\n",
            "- - Subtraction\n",
            "* - Multiplication\n",
            "/ - Division\n",
            "AC - Quit\n",
            "Input your choice\n",
            "+\n",
            "\n",
            "Sum =  79\n",
            "\n",
            "Menu\n",
            "+ - Addition\n",
            "- - Subtraction\n",
            "* - Multiplication\n",
            "/ - Division\n",
            "AC - Quit\n",
            "Input your choice\n",
            "/\n",
            "Quotient =  0.43636363636363634\n",
            "\n",
            "Menu\n",
            "+ - Addition\n",
            "- - Subtraction\n",
            "* - Multiplication\n",
            "/ - Division\n",
            "AC - Quit\n",
            "Input your choice\n",
            "*\n",
            "Product =  1320\n",
            "\n",
            "Menu\n",
            "+ - Addition\n",
            "- - Subtraction\n",
            "* - Multiplication\n",
            "/ - Division\n",
            "AC - Quit\n",
            "Input your choice\n",
            "-\n",
            "Difference =  -31\n",
            "\n",
            "Menu\n",
            "+ - Addition\n",
            "- - Subtraction\n",
            "* - Multiplication\n",
            "/ - Division\n",
            "AC - Quit\n",
            "Input your choice\n",
            "AC\n",
            "Switched Off\n"
          ],
          "name": "stdout"
        }
      ]
    },
    {
      "cell_type": "markdown",
      "metadata": {
        "id": "jP0A-ZGcg_o9"
      },
      "source": [
        "6.\tWrite a function to generate multiplication table for any number."
      ]
    },
    {
      "cell_type": "code",
      "metadata": {
        "id": "jS9Nqae1hDwu",
        "colab": {
          "base_uri": "https://localhost:8080/",
          "height": 263
        },
        "outputId": "97584b73-a23c-4f63-a027-fc3bbe8d1331"
      },
      "source": [
        "import random\n",
        "\n",
        "def table(n):\n",
        "  for i in range(1, 13):\n",
        "    print(n, \" * \", i, \" = \", (n * i))\n",
        "\n",
        "n = random.randrange(1, 10000)\n",
        "#generating a random number\n",
        "\n",
        "print(\"The generated number is\", n)\n",
        "print()\n",
        "\n",
        "table(n)\n"
      ],
      "execution_count": null,
      "outputs": [
        {
          "output_type": "stream",
          "text": [
            "The generated number is 2908\n",
            "\n",
            "2908  *  1  =  2908\n",
            "2908  *  2  =  5816\n",
            "2908  *  3  =  8724\n",
            "2908  *  4  =  11632\n",
            "2908  *  5  =  14540\n",
            "2908  *  6  =  17448\n",
            "2908  *  7  =  20356\n",
            "2908  *  8  =  23264\n",
            "2908  *  9  =  26172\n",
            "2908  *  10  =  29080\n",
            "2908  *  11  =  31988\n",
            "2908  *  12  =  34896\n"
          ],
          "name": "stdout"
        }
      ]
    },
    {
      "cell_type": "markdown",
      "metadata": {
        "id": "pN5As41Lh6xc"
      },
      "source": [
        "7.\tTake two 3x3 matrix and write a function to add them. \n",
        "Hints: \n",
        "a.\tMatrix is nothing but list of list\n",
        "b.\tNeed two loops to read row and column\n",
        "c.\tFor each step perform addition.\n"
      ]
    },
    {
      "cell_type": "code",
      "metadata": {
        "id": "MS9oLDU5h_XE",
        "colab": {
          "base_uri": "https://localhost:8080/",
          "height": 175
        },
        "outputId": "313dd63c-f129-492c-ba06-60b075a5d1d6"
      },
      "source": [
        "import random\n",
        "\n",
        "M1 = []\n",
        "M2 = []\n",
        "sum = []\n",
        "\n",
        "for i in range(3):\n",
        "  M1.append([])\n",
        "  M2.append([])\n",
        "  sum.append([])\n",
        "  for j in range(3):\n",
        "    M1[i].append(random.randrange(50, 100))\n",
        "  for j in range(3):\n",
        "    M2[i].append(random.randrange(50, 100))#taking all numbers in this range as then we need not worry about formatting\n",
        "  for j in range(3):\n",
        "    sum[i].append(M1[i][j] + M2[i][j])  \n",
        "  #finding the sum of the corresponding elements\n",
        "\n",
        "print(\"The two randomly generated matrices are as follows:\")\n",
        "\n",
        "for i in range(3):\n",
        "  for j in range(3):\n",
        "    print(M1[i][j], \"  \", end = '')\n",
        "  print(\"\\t\\t\", end = '')\n",
        "  for j in range(3):\n",
        "    print(M2[i][j], \"  \", end = '')\n",
        "  print()\n",
        "\n",
        "print(\"\\nThe sum of the two matrices\")\n",
        "\n",
        "for i in range(3):\n",
        "  for j in range(3):\n",
        "    print(sum[i][j], \"  \", end = '')\n",
        "  print() "
      ],
      "execution_count": null,
      "outputs": [
        {
          "output_type": "stream",
          "text": [
            "The two randomly generated matrices are as follows:\n",
            "67   84   97   \t\t98   96   98   \n",
            "51   90   67   \t\t79   66   79   \n",
            "98   72   94   \t\t69   76   53   \n",
            "\n",
            "The sum of the two matrices\n",
            "165   180   195   \n",
            "130   156   146   \n",
            "167   148   147   \n"
          ],
          "name": "stdout"
        }
      ]
    },
    {
      "cell_type": "markdown",
      "metadata": {
        "id": "AJsrpV_4sBtc"
      },
      "source": [
        "8.\tWrite a function to calculate factorial in recursive way."
      ]
    },
    {
      "cell_type": "code",
      "metadata": {
        "id": "ziboXJjlsKS9",
        "colab": {
          "base_uri": "https://localhost:8080/",
          "height": 52
        },
        "outputId": "175ef87b-1756-44eb-d05d-b8f139360f4f"
      },
      "source": [
        "import random\n",
        "\n",
        "def factorial(n):\n",
        "  if (n == 1):\n",
        "    return 1\n",
        "  else:  \n",
        "    return (n * factorial(n-1))\n",
        "\n",
        "n = random.randrange(1, 100)\n",
        "print(\"The generated number = \", n)\n",
        "print(\"Its factorial:\", factorial(n))   \n",
        "  "
      ],
      "execution_count": null,
      "outputs": [
        {
          "output_type": "stream",
          "text": [
            "The generated number =  59\n",
            "Its factorial: 138683118545689835737939019720389406345902876772687432540821294940160000000000000\n"
          ],
          "name": "stdout"
        }
      ]
    }
  ]
}